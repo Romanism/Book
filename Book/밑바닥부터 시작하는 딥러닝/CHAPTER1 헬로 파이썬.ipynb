{
 "cells": [
  {
   "cell_type": "markdown",
   "metadata": {},
   "source": [
    "# CHAPTER1 헬로 파이썬"
   ]
  },
  {
   "cell_type": "markdown",
   "metadata": {},
   "source": [
    "- 파이썬이란?\n",
    "- 파이썬 설치하기\n",
    "- 파이썬 인터프리터\n",
    "- 파이썬 스크립트 파일\n",
    "- NumPy\n",
    "- Matplotlib\n",
    "- 정리"
   ]
  },
  {
   "cell_type": "markdown",
   "metadata": {},
   "source": [
    "---"
   ]
  },
  {
   "cell_type": "markdown",
   "metadata": {},
   "source": [
    "### 1.1 파이썬이란?"
   ]
  },
  {
   "cell_type": "markdown",
   "metadata": {},
   "source": [
    "- 오픈 소스라 무료로 자유롭게 이용할 수 있습니다.\n",
    "- 파이썬 코드는 읽기 쉽고 성능도 뛰어납니다.\n",
    "- 기계학습과 데이터 과학 분야에서 널리 쓰입니다."
   ]
  },
  {
   "cell_type": "markdown",
   "metadata": {},
   "source": [
    "---"
   ]
  },
  {
   "cell_type": "markdown",
   "metadata": {},
   "source": [
    "### 1.2 파이썬 설치하기"
   ]
  },
  {
   "cell_type": "markdown",
   "metadata": {},
   "source": [
    "#### 1.2.1 파이썬 버전"
   ]
  },
  {
   "cell_type": "markdown",
   "metadata": {},
   "source": [
    "- 파이썬 3으로 짠 프로그램을 파이썬 2에선 실행하지 못하는 일이 일어납니다.\n",
    "- 만약 파이썬 2만 설치했다면, 파이썬 3도 추가로 설치하는게 좋습니다."
   ]
  },
  {
   "cell_type": "markdown",
   "metadata": {},
   "source": [
    "#### 1.2.2 사용하는 외부 라이브러리"
   ]
  },
  {
   "cell_type": "markdown",
   "metadata": {},
   "source": [
    "- NumPy : 수치 계산용 라이브러리\n",
    "- Matplotlib : 그래프를 그려주는 라이브러리"
   ]
  },
  {
   "cell_type": "markdown",
   "metadata": {},
   "source": [
    "---"
   ]
  },
  {
   "cell_type": "markdown",
   "metadata": {},
   "source": [
    "### 1.3 파이썬 인터프리터"
   ]
  },
  {
   "cell_type": "code",
   "execution_count": 1,
   "metadata": {},
   "outputs": [
    {
     "name": "stdout",
     "output_type": "stream",
     "text": [
      "Python 3.6.4\r\n"
     ]
    }
   ],
   "source": [
    "# interpreter(!) check version\n",
    "! python3 --version"
   ]
  },
  {
   "cell_type": "markdown",
   "metadata": {},
   "source": [
    "#### 1.3.1 산술연산"
   ]
  },
  {
   "cell_type": "code",
   "execution_count": 2,
   "metadata": {},
   "outputs": [
    {
     "name": "stdout",
     "output_type": "stream",
     "text": [
      "-1\n",
      "20\n",
      "1.4\n",
      "9\n"
     ]
    }
   ],
   "source": [
    "# 사칙연산\n",
    "print(1 - 2)\n",
    "print(4 * 5)\n",
    "print(7 / 5)\n",
    "print(3 ** 2) # 제곱"
   ]
  },
  {
   "cell_type": "markdown",
   "metadata": {},
   "source": [
    "#### 1.3.2 자료형"
   ]
  },
  {
   "cell_type": "code",
   "execution_count": 3,
   "metadata": {},
   "outputs": [
    {
     "name": "stdout",
     "output_type": "stream",
     "text": [
      "<class 'int'>\n",
      "<class 'float'>\n",
      "<class 'str'>\n"
     ]
    }
   ],
   "source": [
    "# 자료형이란 데이터의 성질을 나타내는 것 (정수, 실수, 문자열 등..)\n",
    "print(type(10)) # 숫자형\n",
    "print(type(2.718)) # 실수형\n",
    "print(type('hello')) # 문자열"
   ]
  },
  {
   "cell_type": "markdown",
   "metadata": {},
   "source": [
    "#### 1.3.3 변수"
   ]
  },
  {
   "cell_type": "code",
   "execution_count": 4,
   "metadata": {},
   "outputs": [
    {
     "name": "stdout",
     "output_type": "stream",
     "text": [
      "100\n",
      "3.14\n",
      "314.0\n"
     ]
    }
   ],
   "source": [
    "# 변수부여\n",
    "x = 100 # x라는 변수에 100을 부여\n",
    "print(x)\n",
    "\n",
    "y = 3.14\n",
    "print(y)\n",
    "\n",
    "print(x * y)"
   ]
  },
  {
   "cell_type": "markdown",
   "metadata": {},
   "source": [
    "#### 1.3.4 리스트"
   ]
  },
  {
   "cell_type": "code",
   "execution_count": 5,
   "metadata": {
    "scrolled": true
   },
   "outputs": [
    {
     "name": "stdout",
     "output_type": "stream",
     "text": [
      "[1, 2, 3, 4, 5]\n",
      "길이 : 5\n",
      "1\n"
     ]
    }
   ],
   "source": [
    "# list 생성방법 : []\n",
    "a = [1, 2, 3, 4, 5]\n",
    "print(a)\n",
    "print('길이 : {}'.format(len(a)))\n",
    "print(a[0]) # 첫번째 원소 (인덱스)"
   ]
  },
  {
   "cell_type": "code",
   "execution_count": 6,
   "metadata": {},
   "outputs": [
    {
     "name": "stdout",
     "output_type": "stream",
     "text": [
      "[1, 2]\n",
      "[2, 3, 4, 5]\n",
      "[1, 2, 3, 4]\n"
     ]
    }
   ],
   "source": [
    "# 슬라이싱\n",
    "print(a[0:2]) # 인덱스 0, 1번째 원소 출력\n",
    "print(a[1:]) # 인덱스 1부터 끝까지 원소 출력\n",
    "print(a[:-1]) # 처음부터 마지막 원소 앞 1까지"
   ]
  },
  {
   "cell_type": "markdown",
   "metadata": {},
   "source": [
    "#### 1.3.5 딕셔너리"
   ]
  },
  {
   "cell_type": "code",
   "execution_count": 7,
   "metadata": {},
   "outputs": [
    {
     "name": "stdout",
     "output_type": "stream",
     "text": [
      "181\n",
      "{'height': 181, 'weight': 70}\n"
     ]
    }
   ],
   "source": [
    "# dictionary : {key : value} 형태로 이뤄짐\n",
    "me = {'height' : 181}\n",
    "print(me['height']) # 원소에 접근\n",
    "\n",
    "me['weight'] = 70\n",
    "print(me)"
   ]
  },
  {
   "cell_type": "markdown",
   "metadata": {},
   "source": [
    "#### 1.3.6 bool"
   ]
  },
  {
   "cell_type": "code",
   "execution_count": 8,
   "metadata": {},
   "outputs": [
    {
     "name": "stdout",
     "output_type": "stream",
     "text": [
      "<class 'bool'>\n",
      "False\n",
      "False\n",
      "True\n"
     ]
    }
   ],
   "source": [
    "# 논리형, 참(True)과 거짓(False)로 구성됨\n",
    "hungry = True\n",
    "sleepy = False\n",
    "\n",
    "print(type(hungry))\n",
    "print(not hungry)\n",
    "print(hungry and sleepy)\n",
    "print(hungry or sleepy)"
   ]
  },
  {
   "cell_type": "markdown",
   "metadata": {},
   "source": [
    "#### 1.3.7 if 문"
   ]
  },
  {
   "cell_type": "code",
   "execution_count": 9,
   "metadata": {},
   "outputs": [
    {
     "name": "stdout",
     "output_type": "stream",
     "text": [
      "very hungry\n"
     ]
    }
   ],
   "source": [
    "# 조건문을 사용하고 싶을 때 if문을 사용한다\n",
    "hungry = True\n",
    "if hungry :\n",
    "    print('very hungry') # indent(공백) 주의"
   ]
  },
  {
   "cell_type": "markdown",
   "metadata": {},
   "source": [
    "#### 1.3.8 for 문"
   ]
  },
  {
   "cell_type": "code",
   "execution_count": 10,
   "metadata": {},
   "outputs": [
    {
     "name": "stdout",
     "output_type": "stream",
     "text": [
      "1\n",
      "2\n",
      "3\n"
     ]
    }
   ],
   "source": [
    "# 반복 처리할 때 유용하다\n",
    "for i in [1, 2, 3] :\n",
    "    print(i)"
   ]
  },
  {
   "cell_type": "markdown",
   "metadata": {},
   "source": [
    "#### 1.3.9 함수"
   ]
  },
  {
   "cell_type": "code",
   "execution_count": 11,
   "metadata": {},
   "outputs": [
    {
     "name": "stdout",
     "output_type": "stream",
     "text": [
      "hello world\n"
     ]
    }
   ],
   "source": [
    "# 특정기능을 수행하는 일련의 명령들을 묶어 하나의 함수로 정의하는 것\n",
    "def hello() :\n",
    "    print('hello world')\n",
    "\n",
    "hello()"
   ]
  },
  {
   "cell_type": "markdown",
   "metadata": {},
   "source": [
    "---"
   ]
  },
  {
   "cell_type": "markdown",
   "metadata": {},
   "source": [
    "### 1.4 파이썬 스크립트 파일"
   ]
  },
  {
   "cell_type": "markdown",
   "metadata": {},
   "source": [
    "#### 1.4.1 클래스\n",
    "\n",
    "- 개발자가 직접 클래스를 정의하면 독자적인 자료형을 만들 수 있습니다.\n",
    "- 클래스에는 클래스만의 전용 함수 (메서드)와 속성을 정의할 수도 있습니다."
   ]
  },
  {
   "cell_type": "code",
   "execution_count": 12,
   "metadata": {},
   "outputs": [
    {
     "name": "stdout",
     "output_type": "stream",
     "text": [
      "Initialized!\n",
      "Hello SungIn!\n",
      "Goodbye SungIn!\n"
     ]
    }
   ],
   "source": [
    "# make class\n",
    "class Man :\n",
    "    \n",
    "    def __init__(self, name) :\n",
    "        self.name = name\n",
    "        print('Initialized!')\n",
    "        \n",
    "    def hello(self) :\n",
    "        print('Hello ' + self.name + '!')\n",
    "        \n",
    "    def goodbye(self) :\n",
    "        print('Goodbye ' + self.name + '!')\n",
    "        \n",
    "\n",
    "m = Man('SungIn')\n",
    "m.hello()\n",
    "m.goodbye()"
   ]
  },
  {
   "cell_type": "markdown",
   "metadata": {},
   "source": [
    "---"
   ]
  },
  {
   "cell_type": "markdown",
   "metadata": {},
   "source": [
    "### 1.5 NumPy"
   ]
  },
  {
   "cell_type": "markdown",
   "metadata": {},
   "source": [
    "#### 1.5.1 NumPy 가져오기"
   ]
  },
  {
   "cell_type": "code",
   "execution_count": 13,
   "metadata": {},
   "outputs": [],
   "source": [
    "import numpy as np"
   ]
  },
  {
   "cell_type": "markdown",
   "metadata": {},
   "source": [
    "#### 1.5.2 NumPy 배열 생성하기"
   ]
  },
  {
   "cell_type": "code",
   "execution_count": 14,
   "metadata": {},
   "outputs": [
    {
     "name": "stdout",
     "output_type": "stream",
     "text": [
      "[1. 2. 3.]\n",
      "<class 'numpy.ndarray'>\n"
     ]
    }
   ],
   "source": [
    "x = np.array([1.0, 2.0, 3.0])\n",
    "print(x)\n",
    "print(type(x))"
   ]
  },
  {
   "cell_type": "markdown",
   "metadata": {},
   "source": [
    "#### 1.5.3 NumPy 산술 연산"
   ]
  },
  {
   "cell_type": "code",
   "execution_count": 15,
   "metadata": {},
   "outputs": [
    {
     "name": "stdout",
     "output_type": "stream",
     "text": [
      "[3. 6. 9.]\n",
      "[-1. -2. -3.]\n",
      "[ 2.  8. 18.]\n",
      "[0.5 0.5 0.5]\n"
     ]
    }
   ],
   "source": [
    "# 원소의 수가 동일\n",
    "x = np.array([1.0, 2.0, 3.0])\n",
    "y = np.array([2.0, 4.0, 6.0])\n",
    "\n",
    "print(x + y)\n",
    "print(x - y)\n",
    "print(x * y)\n",
    "print(x / y)"
   ]
  },
  {
   "cell_type": "markdown",
   "metadata": {},
   "source": [
    "#### 1.5.4 NumPy의 N차원 배열"
   ]
  },
  {
   "cell_type": "code",
   "execution_count": 16,
   "metadata": {},
   "outputs": [
    {
     "name": "stdout",
     "output_type": "stream",
     "text": [
      "[[ 4  2]\n",
      " [ 3 10]]\n",
      "[[ 3  0]\n",
      " [ 0 24]]\n"
     ]
    }
   ],
   "source": [
    "# make matrix\n",
    "A = np.array([[1, 2], [3, 4]])\n",
    "B = np.array([[3, 0], [0, 6]])\n",
    "print(A + B)\n",
    "print(A * B)"
   ]
  },
  {
   "cell_type": "markdown",
   "metadata": {},
   "source": [
    "#### 1.5.5 브로드캐스트"
   ]
  },
  {
   "cell_type": "code",
   "execution_count": 17,
   "metadata": {},
   "outputs": [
    {
     "data": {
      "text/plain": [
       "array([[10, 40],\n",
       "       [30, 80]])"
      ]
     },
     "execution_count": 17,
     "metadata": {},
     "output_type": "execute_result"
    }
   ],
   "source": [
    "# broadcast\n",
    "A = np.array([[1, 2], [3, 4]])\n",
    "B = np.array([10, 20])\n",
    "\n",
    "A * B"
   ]
  },
  {
   "cell_type": "markdown",
   "metadata": {},
   "source": [
    "#### 1.5.6 원소 접근"
   ]
  },
  {
   "cell_type": "code",
   "execution_count": 18,
   "metadata": {},
   "outputs": [
    {
     "name": "stdout",
     "output_type": "stream",
     "text": [
      "[51 55]\n",
      "[14 19]\n",
      "[0 4]\n",
      "[51 55 14 19  0  4]\n",
      "[51 14  0]\n"
     ]
    }
   ],
   "source": [
    "# index는 0부터 시작\n",
    "X = np.array([[51, 55], [14, 19], [0, 4]])\n",
    "\n",
    "# for문\n",
    "for row in X :\n",
    "    print(row)\n",
    "    \n",
    "# 차원 변환 후 인덱스 구하기\n",
    "X = X.flatten()\n",
    "print(X)\n",
    "print(X[np.array([0, 2, 4])])"
   ]
  },
  {
   "cell_type": "markdown",
   "metadata": {},
   "source": [
    "---"
   ]
  },
  {
   "cell_type": "markdown",
   "metadata": {},
   "source": [
    "### 1.6 Matplotlib"
   ]
  },
  {
   "cell_type": "markdown",
   "metadata": {},
   "source": [
    "#### 1.6.1 단순한 그래프 그리기"
   ]
  },
  {
   "cell_type": "code",
   "execution_count": 19,
   "metadata": {},
   "outputs": [
    {
     "data": {
      "image/png": "[encoded data removed]",
      "text/plain": [
       "<matplotlib.figure.Figure at 0x10eedf908>"
      ]
     },
     "metadata": {
      "image/png": {
       "height": 250,
       "width": 388
      }
     },
     "output_type": "display_data"
    }
   ],
   "source": [
    "import numpy as np\n",
    "import matplotlib.pyplot as plt\n",
    "\n",
    "# data set\n",
    "x = np.arange(0, 6, 0.1)\n",
    "y = np.sin(x)\n",
    "\n",
    "# make graph\n",
    "plt.plot(x, y)\n",
    "plt.show()"
   ]
  },
  {
   "cell_type": "markdown",
   "metadata": {},
   "source": [
    "#### 1.6.2 pyplot의 기능"
   ]
  },
  {
   "cell_type": "code",
   "execution_count": 20,
   "metadata": {
    "scrolled": true
   },
   "outputs": [
    {
     "data": {
      "image/png": "[encoded data removed]",
      "text/plain": [
       "<matplotlib.figure.Figure at 0x10eedf588>"
      ]
     },
     "metadata": {
      "image/png": {
       "height": 250,
       "width": 388
      }
     },
     "output_type": "display_data"
    }
   ],
   "source": [
    "# data set\n",
    "x = np.arange(0, 6, 0.1)\n",
    "y1 = np.sin(x)\n",
    "y2 = np.cos(x)\n",
    "\n",
    "\n",
    "# make graph\n",
    "plt.plot(x, y1, label = 'sin')\n",
    "plt.plot(x, y2, label = 'cos')\n",
    "plt.legend()\n",
    "plt.show()"
   ]
  },
  {
   "cell_type": "markdown",
   "metadata": {},
   "source": [
    "#### 1.6.3 이미지 표시하기"
   ]
  },
  {
   "cell_type": "code",
   "execution_count": 21,
   "metadata": {},
   "outputs": [],
   "source": [
    "from matplotlib.image import imread"
   ]
  },
  {
   "cell_type": "code",
   "execution_count": null,
   "metadata": {},
   "outputs": [],
   "source": [
    "# img = imread('lena.png')\n",
    "\n",
    "# plt.imshow(img)\n",
    "# plt.show()"
   ]
  },
  {
   "cell_type": "markdown",
   "metadata": {},
   "source": [
    "---"
   ]
  },
  {
   "cell_type": "markdown",
   "metadata": {},
   "source": [
    "### 1.7 정리"
   ]
  },
  {
   "cell_type": "markdown",
   "metadata": {},
   "source": [
    "- 파이썬은 간단하고 익히기 쉬운 프로그래밍 언어다.\n",
    "- 파이썬은 오픈 소스여서 자유롭게 사용할 수 있다.\n",
    "- 이 책은 딥러닝 구현에 파이썬3 버전을 이용한다.\n",
    "- 외부 라이브러리로는 NumPy와 Matplotlib을 이용한다.\n",
    "- 파이썬에서는 함수와 클래스 같은 모듈로 구현을 정리할 수 있다.\n",
    "- NumPy는 다차원 배열을 다루는 편리한 메서드를 많이 제공한다."
   ]
  }
 ],
 "metadata": {
  "kernelspec": {
   "display_name": "Python 3",
   "language": "python",
   "name": "python3"
  },
  "language_info": {
   "codemirror_mode": {
    "name": "ipython",
    "version": 3
   },
   "file_extension": ".py",
   "mimetype": "text/x-python",
   "name": "python",
   "nbconvert_exporter": "python",
   "pygments_lexer": "ipython3",
   "version": "3.6.4"
  }
 },
 "nbformat": 4,
 "nbformat_minor": 2
}
