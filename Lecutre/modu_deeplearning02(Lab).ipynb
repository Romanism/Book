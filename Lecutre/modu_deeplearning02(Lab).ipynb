{
 "cells": [
  {
   "cell_type": "markdown",
   "metadata": {},
   "source": [
    "## ML lab 02 - TensorFlow로 간단한 linear regression을 구현 (new)"
   ]
  },
  {
   "cell_type": "markdown",
   "metadata": {},
   "source": [
    "#### 1. Build graph using TF operations"
   ]
  },
  {
   "cell_type": "code",
   "execution_count": 1,
   "metadata": {},
   "outputs": [
    {
     "name": "stderr",
     "output_type": "stream",
     "text": [
      "/usr/local/lib/python3.6/site-packages/h5py/__init__.py:36: FutureWarning: Conversion of the second argument of issubdtype from `float` to `np.floating` is deprecated. In future, it will be treated as `np.float64 == np.dtype(float).type`.\n",
      "  from ._conv import register_converters as _register_converters\n"
     ]
    }
   ],
   "source": [
    "import tensorflow as tf\n",
    "# H(x) = Wx + b 만들어보기\n",
    "\n",
    "# train data 생성\n",
    "X_train = [1, 2, 3]\n",
    "y_train = [1, 2, 3]\n",
    "\n",
    "# variable은 tensorflow가 사용하는 variable이다\n",
    "# tensorflow가 학습하면서 다양한 variable을 넣는다\n",
    "W = tf.Variable(tf.random_normal([1]), name = 'weight')\n",
    "b = tf.Variable(tf.random_normal([1]), name = 'bias')\n",
    "\n",
    "# 가설에 따른 식 세우기\n",
    "hypothesis = X_train * W + b"
   ]
  },
  {
   "cell_type": "code",
   "execution_count": 2,
   "metadata": {},
   "outputs": [],
   "source": [
    "# cost/loss function 만들기\n",
    "# tf.square : 제곱, reduce_mean : 평균\n",
    "cost = tf.reduce_mean(tf.square(hypothesis - y_train))"
   ]
  },
  {
   "cell_type": "code",
   "execution_count": 3,
   "metadata": {},
   "outputs": [],
   "source": [
    "# GradientDescent : Cost functionf를 minimize하는 방법\n",
    "optimizer = tf.train.GradientDescentOptimizer(learning_rate = 0.01)\n",
    "\n",
    "# cost를 gredientdescent를 통해 minize\n",
    "train = optimizer.minimize(cost)"
   ]
  },
  {
   "cell_type": "markdown",
   "metadata": {},
   "source": [
    "#### 2. Make Session "
   ]
  },
  {
   "cell_type": "code",
   "execution_count": 4,
   "metadata": {},
   "outputs": [],
   "source": [
    "# make session\n",
    "sess = tf.Session()"
   ]
  },
  {
   "cell_type": "markdown",
   "metadata": {},
   "source": [
    "#### 3. Run/update graph and get results"
   ]
  },
  {
   "cell_type": "code",
   "execution_count": 5,
   "metadata": {},
   "outputs": [
    {
     "name": "stdout",
     "output_type": "stream",
     "text": [
      "0 18.450527 [-0.9070374] [-0.18917385]\n",
      "200 0.016234137 [0.85201746] [0.33639914]\n",
      "400 0.0061989934 [0.90855587] [0.20787428]\n",
      "600 0.002367076 [0.943493] [0.1284537]\n",
      "800 0.00090386346 [0.96508217] [0.07937647]\n",
      "1000 0.00034513968 [0.9784229] [0.04904983]\n",
      "1200 0.00013179136 [0.9866666] [0.03030985]\n",
      "1400 5.0323753e-05 [0.99176085] [0.01872952]\n",
      "1600 1.9215875e-05 [0.99490863] [0.01157374]\n",
      "1800 7.3376686e-06 [0.9968538] [0.0071519]\n",
      "2000 2.8019592e-06 [0.9980559] [0.00441953]\n"
     ]
    }
   ],
   "source": [
    "# W, b를 variable로 사용했는데 이를 실행시키려면 global_varialbes_initializer를 실행해야 함\n",
    "sess.run(tf.global_variables_initializer())\n",
    "\n",
    "# run을 통해 학습을 실행시킨다\n",
    "for step in range(2000+1) :\n",
    "    sess.run(train)\n",
    "    if step % 200 == 0:\n",
    "        print(step, sess.run(cost), sess.run(W), sess.run(b))"
   ]
  },
  {
   "cell_type": "code",
   "execution_count": 6,
   "metadata": {},
   "outputs": [
    {
     "name": "stdout",
     "output_type": "stream",
     "text": [
      "[1.0024754 2.0005312 2.9985871]\n"
     ]
    }
   ],
   "source": [
    "# result\n",
    "print(sess.run(hypothesis))"
   ]
  },
  {
   "cell_type": "markdown",
   "metadata": {},
   "source": [
    "#### 참고 : Placeholder"
   ]
  },
  {
   "cell_type": "code",
   "execution_count": 7,
   "metadata": {},
   "outputs": [
    {
     "name": "stdout",
     "output_type": "stream",
     "text": [
      "0 2.8019592e-06 [0.9980605] [0.00440891]\n",
      "200 1.0701484e-06 [0.99880147] [0.00272458]\n",
      "400 4.0877902e-07 [0.99925923] [0.0016838]\n",
      "600 1.5610114e-07 [0.9995422] [0.00104073]\n",
      "800 5.9696774e-08 [0.9997169] [0.00064353]\n",
      "1000 2.2857458e-08 [0.9998247] [0.00039815]\n",
      "1200 8.741324e-09 [0.9998916] [0.00024636]\n",
      "1400 3.359446e-09 [0.99993294] [0.00015275]\n",
      "1600 1.2927946e-09 [0.99995846] [9.471256e-05]\n",
      "1800 5.057217e-10 [0.99997383] [5.9072936e-05]\n",
      "2000 1.890091e-10 [0.9999842] [3.6110043e-05]\n"
     ]
    }
   ],
   "source": [
    "# placeholders 이용 : 값을 직접 주지 않고 필요할때 주고 싶은 값을 줄때\n",
    "\n",
    "X = tf.placeholder(tf.float32, shape = [None])\n",
    "Y = tf.placeholder(tf.float32, shape = [None])\n",
    "\n",
    "# run을 통해 학습을 실행시킨다\n",
    "for step in range(2000+1) :\n",
    "    cost_val, W_val, b_val, _  = \\\n",
    "        sess.run([cost, W, b, train],\n",
    "                  feed_dict = {X : [1, 2, 3], Y : [1, 2, 3]})\n",
    "        \n",
    "    if step % 200 == 0:\n",
    "        print(step, cost_val, W_val, b_val)"
   ]
  },
  {
   "cell_type": "code",
   "execution_count": 8,
   "metadata": {},
   "outputs": [
    {
     "name": "stdout",
     "output_type": "stream",
     "text": [
      "[4.999957]\n",
      "[2.3999982]\n",
      "[ 1.400014 10.199875]\n"
     ]
    }
   ],
   "source": [
    "# test\n",
    "hypothesis = X * W + b\n",
    "print(sess.run(hypothesis, feed_dict = {X : [5]}))\n",
    "print(sess.run(hypothesis, feed_dict = {X : [2.4]}))\n",
    "print(sess.run(hypothesis, feed_dict = {X : [1.4, 10.2]}))"
   ]
  }
 ],
 "metadata": {
  "kernelspec": {
   "display_name": "Python 3",
   "language": "python",
   "name": "python3"
  },
  "language_info": {
   "codemirror_mode": {
    "name": "ipython",
    "version": 3
   },
   "file_extension": ".py",
   "mimetype": "text/x-python",
   "name": "python",
   "nbconvert_exporter": "python",
   "pygments_lexer": "ipython3",
   "version": "3.6.4"
  }
 },
 "nbformat": 4,
 "nbformat_minor": 2
}
