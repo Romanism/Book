{
 "cells": [
  {
   "cell_type": "markdown",
   "metadata": {},
   "source": [
    "# CHAPTER3. 분류\n",
    "\n",
    "- 성능 측정"
   ]
  },
  {
   "cell_type": "markdown",
   "metadata": {},
   "source": [
    "---"
   ]
  },
  {
   "cell_type": "markdown",
   "metadata": {},
   "source": [
    "## 3.1 성능 측정"
   ]
  },
  {
   "cell_type": "markdown",
   "metadata": {},
   "source": [
    "#### 3.1.1 Cross Validation (CV, 교차검증)"
   ]
  },
  {
   "cell_type": "markdown",
   "metadata": {},
   "source": [
    "- 모델을 만들다 보면 성능향상을 위해 많은 일들을 진행합니다. ex) 모수 개수 늘리기, 비선형 모델 사용 등\n",
    "\n",
    "\n",
    "- 그렇게 하다보면 Overfitting(과최적화) 문제가 발생합니다. 이를 방지하기 위해 교차검증을 시행합니다.\n",
    "\n",
    "\n",
    "- 교차검증은 모델에 사용된 데이터를 Train/Test로 나눠 검증을 실시하고 평균 성능과 평균 분산을 구하는 것을 의미합니다.\n",
    "\n",
    "\n",
    "- 대표적인 교차검증에는 K-Fold 교차검증이 있는데 K-Fold는 K개의 Fold(Train/Test)를 만들어서 각 Fold별로 성능을 측정하는 방법입니다.\n",
    "\n",
    "\n",
    "- K개의 데이터에 대한 성능이 비슷해야 좋은 모델이라 할 수 있습니다."
   ]
  },
  {
   "cell_type": "markdown",
   "metadata": {},
   "source": [
    "#### 3.2 Confusion Matrix (오차 행렬)"
   ]
  },
  {
   "cell_type": "markdown",
   "metadata": {},
   "source": [
    "- 실제 y값과 모델이 예측한 y값이 서로 일치하는지 개수를 파악하는 것을 의미합니다."
   ]
  },
  {
   "cell_type": "markdown",
   "metadata": {},
   "source": [
    "||0이라 예측|1이라 예측|\n",
    "|--|--|--|\n",
    "|실제값이 0|True Positive|False Negative|\n",
    "|셀제값이 1|False Positive|True Negative|"
   ]
  },
  {
   "cell_type": "markdown",
   "metadata": {},
   "source": [
    "#### 3.3 Classification Report "
   ]
  },
  {
   "cell_type": "markdown",
   "metadata": {},
   "source": [
    "#### 3.3.1 Accuracy (정확도)\n",
    "\n",
    "- 전체 샘플 중 맞게 예측한 샘플의 비율입니다."
   ]
  },
  {
   "cell_type": "markdown",
   "metadata": {},
   "source": [
    "$$ Accuracy = \\dfrac{TP + TN}{TP + TN + FP + FN}$$"
   ]
  },
  {
   "cell_type": "markdown",
   "metadata": {},
   "source": [
    "#### 3.3.2 Precision (정밀도) \n",
    "\n",
    "- Positive라고 예측한 샘플 중 실제값이 Positive인 샘플의 비율을 의미합니다."
   ]
  },
  {
   "cell_type": "markdown",
   "metadata": {},
   "source": [
    "$$Precision  = \\dfrac{TP}{TP + FP}$$"
   ]
  },
  {
   "cell_type": "markdown",
   "metadata": {},
   "source": [
    "#### 3.3.3 Recall (재현율) \n",
    "\n",
    "- 실제값이 Positive인 샘플 중 Positive라고 예측한 비율입니다."
   ]
  },
  {
   "cell_type": "markdown",
   "metadata": {},
   "source": [
    "$$Recall = \\dfrac{TP}{TP + FN}$$"
   ]
  },
  {
   "cell_type": "markdown",
   "metadata": {},
   "source": [
    "#### 3.3.4 Fall - Out (위양성율)\n",
    "\n",
    "- 실제값이 Negative인 샘풀 중 Positive라고 예측한 비율입니다."
   ]
  },
  {
   "cell_type": "markdown",
   "metadata": {},
   "source": [
    "$$Fall-out = \\dfrac{FP}{FP + TN}$$"
   ]
  },
  {
   "cell_type": "markdown",
   "metadata": {},
   "source": [
    "#### 3.3.5 F(beta) Score\n",
    "\n",
    "- Precision(정밀도)와 재현율(Recall)의 조화평균입니다"
   ]
  },
  {
   "cell_type": "markdown",
   "metadata": {},
   "source": [
    "$$F_b = (1+\\beta^2)*\\dfrac{Precision * Recall}{\\beta^2*Precision + Recall}$$"
   ]
  },
  {
   "cell_type": "markdown",
   "metadata": {},
   "source": [
    "- F1 Score는 beta에 1을 대입한 스코어입니다. 다음과 같은 수식을 얻을 수 있습니다.\n",
    "    \n",
    "\n",
    "$$F_1 = 2*\\dfrac{Precision * Recall}{Precision + Recall}$$"
   ]
  },
  {
   "cell_type": "markdown",
   "metadata": {},
   "source": [
    "#### 3.3.6 관계 파악\n",
    "\n",
    "- Precision(정밀도)과 Recall(재현율) & Fall-out(위양성율)은 대략적으로 음의 상관관계가 있습니다. \n",
    "\n",
    "\n",
    "- 정밀도를 높이기 위해 판단기준을 엄격하게 할수록 Recall(재현율)이나 Fall-out(위양성율)이 감소하는 경향을 띱니다.\n",
    "\n",
    "\n",
    "- 반면 Recall(재현율)과 Fall-out(위양성율)은 양의 상관관계가 있습니다. \n",
    "\n",
    "\n",
    "- Recall(재현율)을 높이기 위해선 Positive로 판단하는 기준을 낮춰 조금만 조건에 충족하면 양성으로 판단하면 됩니다. \n",
    "\n",
    "\n",
    "- 이러면 음성임에도 양성으로 판단되는 데이터가 같이 증가하고 이는 Fall-out(위양성율)을 증가시키는 결과를 초래합니다."
   ]
  },
  {
   "cell_type": "code",
   "execution_count": null,
   "metadata": {},
   "outputs": [],
   "source": []
  },
  {
   "cell_type": "markdown",
   "metadata": {},
   "source": [
    "### ROC Curve (Receiver Operator Characteristic)"
   ]
  },
  {
   "cell_type": "markdown",
   "metadata": {},
   "source": [
    "- ROC Curve는 클래스 판별 기준값의 변화에 따른 Recall(재현율)과 Fall-ou(위양성율)의 변화를 시각화한 것입니다."
   ]
  },
  {
   "cell_type": "markdown",
   "metadata": {},
   "source": [
    "|f|y_hat|y|\n",
    "|--|--|--|\n",
    "|2.167|1|1|\n",
    "|1.447|1|1|\n",
    "|1.234|1|1|\n",
    "|0.452|1|1|\n",
    "|-0.152|0|1|\n",
    "|-0.784|0|0|\n",
    "|-1.235|0|0|\n"
   ]
  },
  {
   "cell_type": "markdown",
   "metadata": {},
   "source": [
    "#### ROC Curve가 작성되는 과정\n",
    "\n",
    "- 현재는 0을 기준값(Threshold)으로 구분해 판별함수값(f)이 0보다 크면 양성(!), 작으면 음성(0)이 됩니다.\n",
    "\n",
    "\n",
    "- 데이터가 분류가 다르게 되도록 기준값을 증가 or 감소시킵니다.\n",
    "\n",
    "\n",
    "- 기준값을 여러가지 방법으로 증가 or 감소시키면 여러가지 다른 기준값에 대해 분류결과가 달라지고 Recall, Fall-out 등의 성능 평가 점수도 달라집니다.\n",
    "\n",
    "\n",
    "- Scikit-Learn의 roc_corve는 위 과정을 자동화해줍니다."
   ]
  },
  {
   "cell_type": "markdown",
   "metadata": {},
   "source": [
    "### AUC (Area Under the Curve)"
   ]
  },
  {
   "cell_type": "markdown",
   "metadata": {},
   "source": [
    "- AUC는 ROC Curve의 면적을 의미합니다. \n",
    "\n",
    "\n",
    "- Fall-out(위양성율) 대비 Recall(재현율)값이 클수록 1에 가깝고 민감한 모형입니다.\n",
    "\n",
    "\n",
    "- 다중 클래스의 경우는 정밀도, 재현율, 위상성율을 구하거나 ROC Curve를 그릴 수 없습니다.\n",
    "\n",
    "\n",
    "- 해결하는 방법은 각각의 클래스에 대해 OvR문제를 가정해 각각의 OvR에 대한 값을 구합니다."
   ]
  },
  {
   "cell_type": "markdown",
   "metadata": {},
   "source": []
  },
  {
   "cell_type": "markdown",
   "metadata": {},
   "source": []
  },
  {
   "cell_type": "markdown",
   "metadata": {},
   "source": []
  },
  {
   "cell_type": "markdown",
   "metadata": {},
   "source": []
  },
  {
   "cell_type": "markdown",
   "metadata": {},
   "source": []
  }
 ],
 "metadata": {
  "kernelspec": {
   "display_name": "Python 3",
   "language": "python",
   "name": "python3"
  },
  "language_info": {
   "codemirror_mode": {
    "name": "ipython",
    "version": 3
   },
   "file_extension": ".py",
   "mimetype": "text/x-python",
   "name": "python",
   "nbconvert_exporter": "python",
   "pygments_lexer": "ipython3",
   "version": "3.6.5"
  }
 },
 "nbformat": 4,
 "nbformat_minor": 2
}
