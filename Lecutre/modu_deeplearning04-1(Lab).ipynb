{
 "cells": [
  {
   "cell_type": "markdown",
   "metadata": {},
   "source": [
    "## ML lab 04-1: multi-variable linear regression을 TensorFlow에서 구현하기 (new)"
   ]
  },
  {
   "cell_type": "code",
   "execution_count": 1,
   "metadata": {},
   "outputs": [
    {
     "name": "stderr",
     "output_type": "stream",
     "text": [
      "/usr/local/lib/python3.6/site-packages/h5py/__init__.py:36: FutureWarning: Conversion of the second argument of issubdtype from `float` to `np.floating` is deprecated. In future, it will be treated as `np.float64 == np.dtype(float).type`.\n",
      "  from ._conv import register_converters as _register_converters\n"
     ]
    },
    {
     "name": "stdout",
     "output_type": "stream",
     "text": [
      "0 cost : 47249.367 \n",
      "Prediction: [-34.720436 -51.398857 -45.959923 -50.03768  -42.134346]\n",
      "200 cost : 21.516644 \n",
      "Prediction: [157.6151  181.20493 182.11652 198.35852 134.81606]\n",
      "400 cost : 19.515095 \n",
      "Prediction: [157.2944  181.39487 182.02725 198.28854 135.12973]\n",
      "600 cost : 17.704037 \n",
      "Prediction: [156.98952 181.57547 181.94241 198.22173 135.4282 ]\n",
      "800 cost : 16.06535 \n",
      "Prediction: [156.69969 181.74722 181.86182 198.15799 135.71225]\n",
      "1000 cost : 14.582466 \n",
      "Prediction: [156.42415 181.91054 181.7852  198.09712 135.98256]\n",
      "1200 cost : 13.240695 \n",
      "Prediction: [156.16219 182.0658  181.7124  198.03899 136.23976]\n",
      "1400 cost : 12.026429 \n",
      "Prediction: [155.9132  182.21347 181.64323 197.98347 136.48457]\n",
      "1600 cost : 10.927664 \n",
      "Prediction: [155.67648 182.35385 181.57751 197.93045 136.71753]\n",
      "1800 cost : 9.933283 \n",
      "Prediction: [155.45149 182.48738 181.5151  197.8798  136.93925]\n",
      "2000 cost : 9.033354 \n",
      "Prediction: [155.23761 182.61432 181.45581 197.8314  137.15028]\n"
     ]
    }
   ],
   "source": [
    "# list 형태\n",
    "\n",
    "import tensorflow as tf\n",
    "import matplotlib.pyplot as plt\n",
    "\n",
    "x1_data = [73., 93., 89., 96., 73.]\n",
    "x2_data = [80., 89., 91., 98., 66.]\n",
    "x3_data = [75., 93., 90., 100., 70.]\n",
    "y_data = [152., 185., 180., 196., 142.]\n",
    "\n",
    "\n",
    "# input data\n",
    "x1 = tf.placeholder(tf.float32)\n",
    "x2 = tf.placeholder(tf.float32)\n",
    "x3 = tf.placeholder(tf.float32)\n",
    "\n",
    "Y = tf.placeholder(tf.float32)\n",
    "\n",
    "w1 = tf.Variable(tf.random_normal([1]), name = 'weight1')\n",
    "w2 = tf.Variable(tf.random_normal([1]), name = 'weight2')\n",
    "w3 = tf.Variable(tf.random_normal([1]), name = 'weight3')\n",
    "b = tf.Variable(tf.random_normal([1]), name = 'bias')\n",
    "\n",
    "\n",
    "# hypothesis\n",
    "hypothesis = x1 * w1 + x2 * w2 + x3 * w3 + b\n",
    "\n",
    "# cost/loss function\n",
    "cost = tf.reduce_mean(tf.square(hypothesis - Y))\n",
    "\n",
    "# optimizer\n",
    "optimizer = tf.train.GradientDescentOptimizer(learning_rate = 1e-5)\n",
    "train = optimizer.minimize(cost)\n",
    "\n",
    "# launch\n",
    "sess = tf.Session()\n",
    "\n",
    "# initial\n",
    "sess.run(tf.global_variables_initializer())\n",
    "\n",
    "for step in range(2000+1) :\n",
    "    cost_val, hy_val, _ = sess.run([cost, hypothesis, train],\n",
    "                                    feed_dict = {x1 : x1_data, x2 : x2_data, x3 : x3_data, Y : y_data})\n",
    "    if step % 200 == 0 :\n",
    "        print(step, 'cost :', cost_val, '\\nPrediction:', hy_val)"
   ]
  },
  {
   "cell_type": "code",
   "execution_count": 2,
   "metadata": {},
   "outputs": [
    {
     "name": "stdout",
     "output_type": "stream",
     "text": [
      "0 cost : 1002.8895 \n",
      "Prediction: [[122.05141]\n",
      " [151.74988]\n",
      " [146.97041]\n",
      " [160.15654]\n",
      " [116.77598]]\n",
      "500 cost : 0.7113542 \n",
      "Prediction: [[150.27513]\n",
      " [185.41675]\n",
      " [180.27678]\n",
      " [196.4023 ]\n",
      " [142.41167]]\n",
      "1000 cost : 0.61293954 \n",
      "Prediction: [[150.39438]\n",
      " [185.33585]\n",
      " [180.31436]\n",
      " [196.42117]\n",
      " [142.31253]]\n",
      "1500 cost : 0.5372463 \n",
      "Prediction: [[150.49896]\n",
      " [185.26497]\n",
      " [180.34746]\n",
      " [196.4369 ]\n",
      " [142.22649]]\n",
      "2000 cost : 0.478902 \n",
      "Prediction: [[150.59074]\n",
      " [185.2029 ]\n",
      " [180.37663]\n",
      " [196.4499 ]\n",
      " [142.1519 ]]\n"
     ]
    }
   ],
   "source": [
    "# matrix 형태\n",
    "\n",
    "x_data = [[73., 80., 75.], [93., 88., 93.], [89., 91., 90.],\n",
    "          [96., 98., 100.], [73., 66., 70.]]\n",
    "y_data = [[152.], [185.], [180.], [196.], [142.]]\n",
    "\n",
    "# placeholder\n",
    "X = tf.placeholder(tf.float32, shape = [None, 3])\n",
    "Y = tf.placeholder(tf.float32, shape = [None, 1])\n",
    "\n",
    "W = tf.Variable(tf.random_normal([3, 1]), name = 'weight')\n",
    "b = tf.Variable(tf.random_normal([1]), name = 'bias')\n",
    "\n",
    "# hypothesis\n",
    "hypothesis = tf.matmul(X, W) + b\n",
    "\n",
    "# cost/loss function\n",
    "cost = tf.reduce_mean(tf.square(hypothesis - Y))\n",
    "\n",
    "# optimizer\n",
    "optimizer = tf.train.GradientDescentOptimizer(learning_rate = 1e-5)\n",
    "train = optimizer.minimize(cost)\n",
    "\n",
    "# launch\n",
    "sess = tf.Session()\n",
    "\n",
    "# initial\n",
    "sess.run(tf.global_variables_initializer())\n",
    "\n",
    "for step in range(2000+1) :\n",
    "    cost_val, hy_val, _ = sess.run([cost, hypothesis, train],\n",
    "                                    feed_dict = {X : x_data, Y : y_data})\n",
    "    if step % 500 == 0 :\n",
    "        print(step, 'cost :', cost_val, '\\nPrediction:', hy_val)"
   ]
  }
 ],
 "metadata": {
  "kernelspec": {
   "display_name": "Python 3",
   "language": "python",
   "name": "python3"
  },
  "language_info": {
   "codemirror_mode": {
    "name": "ipython",
    "version": 3
   },
   "file_extension": ".py",
   "mimetype": "text/x-python",
   "name": "python",
   "nbconvert_exporter": "python",
   "pygments_lexer": "ipython3",
   "version": "3.6.4"
  }
 },
 "nbformat": 4,
 "nbformat_minor": 2
}
