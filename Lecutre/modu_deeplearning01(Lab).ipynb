{
 "cells": [
  {
   "cell_type": "markdown",
   "metadata": {},
   "source": [
    "## ML lab 01 - TensorFlow의 설치및 기본적인 operations (new)"
   ]
  },
  {
   "cell_type": "code",
   "execution_count": 1,
   "metadata": {
    "scrolled": true
   },
   "outputs": [
    {
     "name": "stderr",
     "output_type": "stream",
     "text": [
      "/usr/local/lib/python3.6/site-packages/h5py/__init__.py:36: FutureWarning: Conversion of the second argument of issubdtype from `float` to `np.floating` is deprecated. In future, it will be treated as `np.float64 == np.dtype(float).type`.\n",
      "  from ._conv import register_converters as _register_converters\n"
     ]
    },
    {
     "data": {
      "text/plain": [
       "'1.7.0'"
      ]
     },
     "execution_count": 1,
     "metadata": {},
     "output_type": "execute_result"
    }
   ],
   "source": [
    "# Check installation and version\n",
    "import tensorflow as tf\n",
    "tf.__version__"
   ]
  },
  {
   "cell_type": "code",
   "execution_count": 2,
   "metadata": {},
   "outputs": [
    {
     "data": {
      "text/plain": [
       "b'Hello, TensorFlow!'"
      ]
     },
     "execution_count": 2,
     "metadata": {},
     "output_type": "execute_result"
    }
   ],
   "source": [
    "# constant = node\n",
    "# constant는 Computational graph 속에 노드가 있고 그 노드 하나의 값을 만드는 것을 의미\n",
    "hello = tf.constant('Hello, TensorFlow!')\n",
    "\n",
    "# Computational graph를 실행하기 위해선 Session을 만들어야 함 (tf.Session)\n",
    "sess = tf.Session()\n",
    "\n",
    "# 세션에서 노드를 실행가능 (sess.run)\n",
    "sess.run(hello)"
   ]
  },
  {
   "cell_type": "code",
   "execution_count": 3,
   "metadata": {},
   "outputs": [
    {
     "name": "stdout",
     "output_type": "stream",
     "text": [
      "sess.run(node1, node2) : [3.0, 4.0]\n",
      "sess.run(node3) 7.0\n"
     ]
    }
   ],
   "source": [
    "# 좀 더 복집한 node생성\n",
    "# 노드 생성\n",
    "node1 = tf.constant(3.0, tf.float32)\n",
    "node2 = tf.constant(4.0)\n",
    "node3 = tf.add(node1, node2)\n",
    "\n",
    "# 세션 생성\n",
    "sess = tf.Session()\n",
    "\n",
    "# 실행\n",
    "print('sess.run(node1, node2) :', sess.run([node1, node2]))\n",
    "print('sess.run(node3)', sess.run(node3))"
   ]
  },
  {
   "cell_type": "code",
   "execution_count": 4,
   "metadata": {},
   "outputs": [
    {
     "name": "stdout",
     "output_type": "stream",
     "text": [
      "sess.run(adder_node, feed_dict = {a : 3, b : 4.5}) : 7.5\n",
      "sess.run(adder_node, feed_dict = {a : [1,3], b : [2, 4]}) [3. 7.]\n"
     ]
    }
   ],
   "source": [
    "# Placeholder : 그래프만 만들어 넣고 값들을 던지는 방식으로 하고 싶을 때 만드는 노드\n",
    "\n",
    "# 숫자를 부여하지 않고 형태 / 함수만 만든다\n",
    "a = tf.placeholder(tf.float32)\n",
    "b = tf.placeholder(tf.float32)\n",
    "adder_node = a + b\n",
    "\n",
    "# 세션 생성\n",
    "sess = tf.Session()\n",
    "\n",
    "# 실행 (fedd_dict로 값을 부여)\n",
    "print('sess.run(adder_node, feed_dict = {a : 3, b : 4.5}) :', \n",
    "       sess.run(adder_node, feed_dict = {a : 3, b : 4.5}))\n",
    "print('sess.run(adder_node, feed_dict = {a : [1,3], b : [2, 4]})', \n",
    "       sess.run(adder_node, feed_dict = {a : [1,3], b : [2, 4]}))"
   ]
  },
  {
   "cell_type": "code",
   "execution_count": 5,
   "metadata": {},
   "outputs": [
    {
     "name": "stdout",
     "output_type": "stream",
     "text": [
      "[1.0, 2.0, 3.0]\n",
      "[[1.0, 2.0, 3.0], [4.0, 5.0, 6.0]]\n",
      "[[[1.0, 2.0, 3.0]], [[7.0, 8.0, 9.0]]]\n"
     ]
    }
   ],
   "source": [
    "# Everything is Tensor\n",
    "print([1., 2., 3.]) # 1차원\n",
    "print([[1., 2., 3.], [4., 5., 6.]]) # 2차원\n",
    "print([[[1., 2., 3.]], [[7., 8., 9.]]]) # 3차원"
   ]
  }
 ],
 "metadata": {
  "kernelspec": {
   "display_name": "Python 3",
   "language": "python",
   "name": "python3"
  },
  "language_info": {
   "codemirror_mode": {
    "name": "ipython",
    "version": 3
   },
   "file_extension": ".py",
   "mimetype": "text/x-python",
   "name": "python",
   "nbconvert_exporter": "python",
   "pygments_lexer": "ipython3",
   "version": "3.6.4"
  }
 },
 "nbformat": 4,
 "nbformat_minor": 2
}
