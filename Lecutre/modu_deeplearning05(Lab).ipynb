{
 "cells": [
  {
   "cell_type": "markdown",
   "metadata": {},
   "source": [
    "## ML lab 05: TensorFlow로 Logistic Classification의 구현하기 (new)"
   ]
  },
  {
   "cell_type": "markdown",
   "metadata": {},
   "source": [
    "#### Logistic classification"
   ]
  },
  {
   "cell_type": "code",
   "execution_count": 1,
   "metadata": {},
   "outputs": [
    {
     "name": "stderr",
     "output_type": "stream",
     "text": [
      "/usr/local/lib/python3.6/site-packages/h5py/__init__.py:36: FutureWarning: Conversion of the second argument of issubdtype from `float` to `np.floating` is deprecated. In future, it will be treated as `np.float64 == np.dtype(float).type`.\n",
      "  from ._conv import register_converters as _register_converters\n"
     ]
    }
   ],
   "source": [
    "import tensorflow as tf\n",
    "\n",
    "# training data\n",
    "x_data = [[1, 2], [2, 3], [3, 1], [4, 3], [5, 3], [6, 2]]\n",
    "y_data = [[0], [0], [0], [1], [1], [1]] # binary\n",
    "\n",
    "# input data\n",
    "X = tf.placeholder(tf.float32, shape = [None, 2])\n",
    "Y = tf.placeholder(tf.float32, shape = [None, 1])\n",
    "\n",
    "W = tf.Variable(tf.random_normal([2, 1]), name = 'weight1')\n",
    "b = tf.Variable(tf.random_normal([1]), name = 'bias')\n",
    "\n",
    "# hypothesis\n",
    "hypothesis = tf.sigmoid(tf.matmul(X, W) + b) # (H(x))\n",
    "\n",
    "# cost/loss function\n",
    "cost = -tf.reduce_mean(Y * tf.log(hypothesis) + (1-Y) * tf.log(1-hypothesis))\n",
    "\n",
    "# optimizer\n",
    "optimizer = tf.train.GradientDescentOptimizer(learning_rate = 0.01)\n",
    "train = optimizer.minimize(cost)\n",
    "\n",
    "# predicted, accuracy\n",
    "predicted = tf.cast(hypothesis > 0.5, dtype = tf.float32) # float형태로 casting(변환)\n",
    "accuracy = tf.reduce_mean(tf.cast(tf.equal(predicted, Y), dtype = tf.float32))"
   ]
  },
  {
   "cell_type": "code",
   "execution_count": 2,
   "metadata": {},
   "outputs": [
    {
     "name": "stdout",
     "output_type": "stream",
     "text": [
      "0 cost : 1.1780491\n",
      "2000 cost : 0.3172803\n",
      "4000 cost : 0.24339347\n",
      "6000 cost : 0.19610327\n",
      "8000 cost : 0.16385163\n",
      "10000 cost : 0.14066756\n",
      "\n",
      "Hypothesis : [[0.02711628]\n",
      " [0.15362592]\n",
      " [0.28702408]\n",
      " [0.7896557 ]\n",
      " [0.9446688 ]\n",
      " [0.9818916 ]] \n",
      "Correct(Y) : [[0.]\n",
      " [0.]\n",
      " [0.]\n",
      " [1.]\n",
      " [1.]\n",
      " [1.]] \u0007ccuracy : 1.0\n"
     ]
    }
   ],
   "source": [
    "# launch\n",
    "with tf.Session() as sess : \n",
    "    \n",
    "    sess.run(tf.global_variables_initializer())\n",
    "    \n",
    "    for step in range(10000+1) :\n",
    "        cost_val, _ = sess.run([cost, train], feed_dict = {X : x_data, Y : y_data})\n",
    "        if step % 2000 == 0 :\n",
    "            print(step, 'cost :', cost_val)\n",
    "            \n",
    "    # accuracy\n",
    "    h, c, a = sess.run([hypothesis, predicted, accuracy],\n",
    "                   feed_dict = {X : x_data, Y : y_data})\n",
    "    \n",
    "    print('\\nHypothesis :', h, '\\nCorrect(Y) :', c, '\\accuracy :', a)"
   ]
  },
  {
   "cell_type": "markdown",
   "metadata": {},
   "source": [
    "#### Classifying diabetes"
   ]
  },
  {
   "cell_type": "code",
   "execution_count": 3,
   "metadata": {},
   "outputs": [],
   "source": [
    "# classifying diabetes\n",
    "xy = np.loadtxt('data/data-03-diabetes.csv', delimiter = ',', dtype = np.float32)\n",
    "x_data = xy[:, 0:-1]\n",
    "y_data = xy[:, [-1]]\n",
    "\n",
    "# input data\n",
    "X = tf.placeholder(tf.float32, shape = [None, 8])\n",
    "Y = tf.placeholder(tf.float32, shape = [None, 1])\n",
    "\n",
    "W = tf.Variable(tf.random_normal([8, 1]), name = 'weight1')\n",
    "b = tf.Variable(tf.random_normal([1]), name = 'bias')\n",
    "\n",
    "# hypothesis\n",
    "hypothesis = tf.sigmoid(tf.matmul(X, W) + b) # (H(x))\n",
    "\n",
    "# cost/loss function\n",
    "cost = -tf.reduce_mean(Y * tf.log(hypothesis) + (1-Y) * tf.log(1-hypothesis))\n",
    "\n",
    "# optimizer\n",
    "optimizer = tf.train.GradientDescentOptimizer(learning_rate = 0.01)\n",
    "train = optimizer.minimize(cost)\n",
    "\n",
    "# predicted, accuracy\n",
    "predicted = tf.cast(hypothesis > 0.5, dtype = tf.float32) # float형태로 casting(변환)\n",
    "accuracy = tf.reduce_mean(tf.cast(tf.equal(predicted, Y), dtype = tf.float32))"
   ]
  },
  {
   "cell_type": "code",
   "execution_count": 4,
   "metadata": {
    "scrolled": false
   },
   "outputs": [
    {
     "name": "stdout",
     "output_type": "stream",
     "text": [
      "0 cost : 0.90630364\n",
      "2000 cost : 0.56426024\n",
      "4000 cost : 0.51449347\n",
      "6000 cost : 0.49485704\n",
      "8000 cost : 0.48584896\n",
      "10000 cost : 0.481168\n",
      "\n",
      "Hypothesis : [[0.3882428 ]\n",
      " [0.92779833]\n",
      " [0.26071462]\n",
      " [0.9341602 ]\n",
      " [0.19228524]] \n",
      "Correct(Y) : [[0.]\n",
      " [1.]\n",
      " [0.]\n",
      " [1.]\n",
      " [0.]] \u0007ccuracy : 0.77338606\n"
     ]
    }
   ],
   "source": [
    "# launch\n",
    "with tf.Session() as sess : \n",
    "    \n",
    "    sess.run(tf.global_variables_initializer())\n",
    "    \n",
    "    for step in range(10000+1) :\n",
    "        cost_val, _ = sess.run([cost, train], feed_dict = {X : x_data, Y : y_data})\n",
    "        if step % 2000 == 0 :\n",
    "            print(step, 'cost :', cost_val)\n",
    "            \n",
    "    # accuracy\n",
    "    h, c, a = sess.run([hypothesis, predicted, accuracy],\n",
    "                   feed_dict = {X : x_data, Y : y_data})\n",
    "    \n",
    "    print('\\nHypothesis :', h[:5], '\\nCorrect(Y) :', c[:5], '\\accuracy :', a)"
   ]
  }
 ],
 "metadata": {
  "kernelspec": {
   "display_name": "Python 3",
   "language": "python",
   "name": "python3"
  },
  "language_info": {
   "codemirror_mode": {
    "name": "ipython",
    "version": 3
   },
   "file_extension": ".py",
   "mimetype": "text/x-python",
   "name": "python",
   "nbconvert_exporter": "python",
   "pygments_lexer": "ipython3",
   "version": "3.6.4"
  }
 },
 "nbformat": 4,
 "nbformat_minor": 2
}
