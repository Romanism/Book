{
 "cells": [
  {
   "cell_type": "markdown",
   "metadata": {},
   "source": [
    "### 1. 목차"
   ]
  },
  {
   "cell_type": "markdown",
   "metadata": {},
   "source": [
    "#### part01 - 독아 (나를 읽다)\n",
    "    - 뇌는 변한다\n",
    "    - 성장형 사고방식\n",
    "\n",
    "#### part02 - 다독 (많이 읽다)\n",
    "    - 독서하는 뇌는 없다\n",
    "    - 천기누설 : 1년에 300권을 읽기까지\n",
    "    \n",
    "#### part03 - 남독 (다양하게 읽다)\n",
    "    - 남독으로 까칠해지기\n",
    "    - 남독으로 엉뚱해지기\n",
    "    - 남독으로 겸손해지기\n",
    "\n",
    "#### part04 - 만독 (느리게 읽다)\n",
    "    - 아이들의 독서\n",
    "    - 독학자\n",
    "    - 효과적인 6단계 만독법\n",
    "\n",
    "####  part05 - 관독 (관점을 갖고 읽다)\n",
    "    - 본다는 것\n",
    "    - 관점과 책\n",
    "    \n",
    "#### part06 - 재독 (다시 읽다)\n",
    "    - 자아의 시간여행\n",
    "    \n",
    "#### part07 - 필독 (쓰면서 읽다)\n",
    "    - 밑줄 그으며 읽기\n",
    "    \n",
    "#### part08 - 낭독 (소리내어 읽다)\n",
    "    - 낭독의 힘\n",
    "    - 탁월한 독서법 : 독서모임"
   ]
  },
  {
   "cell_type": "markdown",
   "metadata": {},
   "source": [
    "---"
   ]
  },
  {
   "cell_type": "markdown",
   "metadata": {},
   "source": [
    "### 2. 독서 일지"
   ]
  },
  {
   "cell_type": "markdown",
   "metadata": {},
   "source": [
    "1) 02/20/Tue (~ p.120)"
   ]
  },
  {
   "cell_type": "markdown",
   "metadata": {},
   "source": [
    "---"
   ]
  },
  {
   "cell_type": "markdown",
   "metadata": {},
   "source": [
    "### 3. 내용 정리"
   ]
  },
  {
   "cell_type": "markdown",
   "metadata": {},
   "source": [
    "#### 1) 책 내용"
   ]
  },
  {
   "cell_type": "markdown",
   "metadata": {},
   "source": [
    "#### part01 - 독아 (나를 읽다)"
   ]
  },
  {
   "cell_type": "markdown",
   "metadata": {},
   "source": [
    "(1) 뇌는 변한다 (뇌의 가소성)\n",
    "\n",
    "- 1990년대 영국 런던의 택시 운전자 16명의 뇌를 MRI 촬영을 실시함\n",
    "- 그 결과 해마의 뒤쪽, 즉 공간적 표현을 저장하고 조직하는 기능을 담당하는 부분이 평범한 사람들에 비해 훨씬 크다는 것을 확인\n",
    "- 인간의 뇌는 고정되지 않고 변한다. 이를 뇌의 가소성(plasticity)라 함\n",
    "- 이를 통해 우리는 고정되지 않고, 언제나 성장할 수 있는 존재임을 확인 할 수 있음"
   ]
  },
  {
   "cell_type": "markdown",
   "metadata": {},
   "source": [
    "(2) 성장형 시고방식\n",
    "\n",
    "- 고바야시는 12분안에 핫도그를 많이 먹는 대회에 참가함 (기존에 최고 기록은 25개와 1/8개)\n",
    "- 고바야시는 이 대회에서 50개를 먹으면서 우승을 차지함\n",
    "- 그는 자신이 먹을 수 있는 핫도그의 개수를 한정짓지 않고 어떻게 효율적으로 먹을 수 있을지만 연구했음\n",
    "- 성장형 사고방식을 통해 훨씬 더 높은 퍼포먼스를 낼 수 있음"
   ]
  },
  {
   "cell_type": "markdown",
   "metadata": {},
   "source": [
    "$\\rightarrow$ 뇌의 가소성을 통해 성장형 사고방식을 가지자 = 나도 독서하는 머리를 가질 수 있다"
   ]
  },
  {
   "cell_type": "markdown",
   "metadata": {},
   "source": [
    "#### part02 - 다독 (많이 읽다)"
   ]
  },
  {
   "cell_type": "markdown",
   "metadata": {},
   "source": [
    "(1) 독서하는 뇌는 없다\n",
    "\n",
    "- 핑계대자면 원래 우리 뇌는 독서를 위한 뇌가 아님 (말은 자연스럽지만 글 자연스럽지 못함)\n",
    "- 초보 독서가의 뇌는 문자의 일차적인 이해를 위해 고전분투 하는 반면, 숙련된 독서가의 뇌는 잘 구축된 자동화 시스템에서 순식간에 해결됨\n",
    "- 숙련된 독서가의 뇌를 가지기 위한 첫시작은 단연 다독임"
   ]
  },
  {
   "cell_type": "markdown",
   "metadata": {},
   "source": [
    "(2) 천기누설 : 1년에 300권을 읽기까지\n",
    "\n",
    "- 다독의 마지노선은 1년에 50권, 일주일에 한권\n",
    "- 다독을 위해선 위에서 언급한 성장형 사고방식을 지녀야 함\n",
    "- 독서 환경에 몸을 묶으면 도움이 됨 ex) 퇴근 후 무조건 카페가서 책읽기\n",
    "- 다독을 하면서 계독을 추천 (계독이란 한분야의 책을 독파하는 것)\n",
    "- 계독을 시작할 때 절때 두껍고 어려운 책으로 시작하지 말자 (얇고 쉬운책)\n",
    "- 계독은 자신의 직업이나 전공하고 있는 분야로 선택하는게 무난"
   ]
  },
  {
   "cell_type": "markdown",
   "metadata": {},
   "source": [
    "$\\rightarrow$ 다독을 통해 독서가의 뇌를 만들 수 있다. 다독을 위한 환경설정을 시작해보자 (지금 내 상황에선 계독+다독)\n",
    "\n",
    "$\\rightarrow$ 계독을 하게 되면 어느 순간 전문가가 된마냥 기고만장해진다. 이를 위해 남독이 필요함"
   ]
  },
  {
   "cell_type": "markdown",
   "metadata": {},
   "source": [
    "#### part03 - 남독 (다양하게 읽다)"
   ]
  },
  {
   "cell_type": "markdown",
   "metadata": {},
   "source": [
    "(1) 남독으로 까칠해지기\n",
    "\n",
    "- 제노비스 사건을 보는 관점이 티핑 포인트, 슈퍼 괴짜 경제학 각각 다르다는 것을 확인\n",
    "- 남독을 통해 같은 내용의 사건을 다르게 보는 관점, 주장을 비판하는 관점이 생길 수 있음"
   ]
  },
  {
   "cell_type": "markdown",
   "metadata": {},
   "source": [
    "(2) 남독으로 엉뚱해지기\n",
    "\n",
    "- 창의성은 낯선 것에 대한 즐거움\n",
    "- 주로 공감각자들이 창의성이 높음 (소리에서 색깔을 보고, 질감에서 감정을 느끼는..)\n",
    "- 남독을 통해 내가 알지 못하는 분야, 생각을 만남으로써 창의성의 씨앗을 뇌에 심어 놓을 수 있음"
   ]
  },
  {
   "cell_type": "markdown",
   "metadata": {},
   "source": [
    "(3) 남독으로 겸손해지기"
   ]
  },
  {
   "cell_type": "markdown",
   "metadata": {},
   "source": [
    "- 다양한 책을 통해 자신의 세계관을 확장시킬 수 있음\n",
    "- 그럴수록 자신의 무지를 깨닫게 되고, 내가 알고 있는 것이 얼마나 보잘것 없었는지를 확인\n",
    "- 무지의 인식, 곧 내가 모른다는 것을 알 때 우리는 겸손해짐"
   ]
  },
  {
   "cell_type": "markdown",
   "metadata": {},
   "source": [
    "$\\rightarrow$ 남독을 통해 비판적 사고, 창의력, 겸손함을 갖출 수 있다"
   ]
  },
  {
   "cell_type": "markdown",
   "metadata": {},
   "source": [
    "---"
   ]
  },
  {
   "cell_type": "markdown",
   "metadata": {},
   "source": [
    "#### 2) 명언 정리 "
   ]
  },
  {
   "cell_type": "markdown",
   "metadata": {},
   "source": [
    "Part 01\n",
    "\n",
    "- 당신이 할 수 있다고 생각하든 할 수 없다고 생각하든 생각하는 대로 될 것이다 - 헨리 포드\n",
    "- 변하지 않는 것은 오직 변한다는 사실 뿐이다 - 헤라클라이토스\n",
    "- 기원으르 아는 것이 사물의 이치를 이해하는 최상의 방법이다 - 테렌스 디콘\n",
    "- 삶은 자신을 발견하는 과정이 아니라 자신을 창조하는 과정이다 - 조지 버나드 쇼\n",
    "- 세상에는 아주 단단한 것이 세 가지가 있다. 강철, 다이아몬드, 그리고 자신에 대한 인식이다 - 벤저민 프랭클린"
   ]
  },
  {
   "cell_type": "markdown",
   "metadata": {},
   "source": [
    "Part 02\n",
    "\n",
    "- 우리는 우리가 읽은 것으로부터 만들어진다 - 마틴 발저\n",
    "- 세월은 만물을 성숙하게 하지. 날 때부터 현인은 없어 - 세르반테스\n",
    "- 우리는 건물을 짓고 그 뒤에는 건물이 우리를 짓습니다 - 처칠"
   ]
  },
  {
   "cell_type": "markdown",
   "metadata": {},
   "source": [
    "part 03\n",
    "\n",
    "- 인간의 목표는 풍부하게 소유하는 것이 아니고 풍성하게 존재하는 것이다 - 법정\n",
    "- 교육이란 당신이 학교에서 배운 것을 다 잊고 남은 그 무엇이다 - 아인슈타인\n",
    "- 창의성은 낯선 것에 대한 즐거움이다 - 어니 젤린스키\n",
    "- 겸손은 가장 확실한 힘의 표시이다 - 머스 머튼"
   ]
  },
  {
   "cell_type": "markdown",
   "metadata": {},
   "source": [
    "---"
   ]
  },
  {
   "cell_type": "markdown",
   "metadata": {},
   "source": [
    "#### 3) 추천 도서"
   ]
  },
  {
   "cell_type": "markdown",
   "metadata": {},
   "source": []
  }
 ],
 "metadata": {
  "kernelspec": {
   "display_name": "Python 3",
   "language": "python",
   "name": "python3"
  },
  "language_info": {
   "codemirror_mode": {
    "name": "ipython",
    "version": 3
   },
   "file_extension": ".py",
   "mimetype": "text/x-python",
   "name": "python",
   "nbconvert_exporter": "python",
   "pygments_lexer": "ipython3",
   "version": "3.6.4"
  }
 },
 "nbformat": 4,
 "nbformat_minor": 2
}
