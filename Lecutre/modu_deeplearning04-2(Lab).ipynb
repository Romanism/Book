{
 "cells": [
  {
   "cell_type": "markdown",
   "metadata": {},
   "source": [
    "## ML lab 04-2: TensorFlow로 파일에서 데이터 읽어오기 (new)"
   ]
  },
  {
   "cell_type": "markdown",
   "metadata": {},
   "source": [
    "#### NumPy"
   ]
  },
  {
   "cell_type": "code",
   "execution_count": 1,
   "metadata": {},
   "outputs": [
    {
     "name": "stdout",
     "output_type": "stream",
     "text": [
      "(6, 3) 6\n",
      "(6, 1) 6\n"
     ]
    }
   ],
   "source": [
    "# data load\n",
    "\n",
    "import numpy as np\n",
    "xy = np.loadtxt('data-01-test-score.csv', delimiter = ',', dtype = np.float32)\n",
    "x_data = xy[:, 0 : -1] # 모든행, 0에서 마지막 끝행은 빼고 가져옴\n",
    "y_data = xy[:, [-1]] # 모든행, 마지막 끝행만 가져옴\n",
    "\n",
    "print(x_data.shape, len(x_data))\n",
    "print(y_data.shape, len(y_data))"
   ]
  },
  {
   "cell_type": "code",
   "execution_count": 2,
   "metadata": {
    "scrolled": false
   },
   "outputs": [
    {
     "name": "stderr",
     "output_type": "stream",
     "text": [
      "/usr/local/lib/python3.6/site-packages/h5py/__init__.py:36: FutureWarning: Conversion of the second argument of issubdtype from `float` to `np.floating` is deprecated. In future, it will be treated as `np.float64 == np.dtype(float).type`.\n",
      "  from ._conv import register_converters as _register_converters\n"
     ]
    },
    {
     "name": "stdout",
     "output_type": "stream",
     "text": [
      "0 cost : 20344.273 \n",
      "Prediction: [[22.048063 ]\n",
      " [21.619787 ]\n",
      " [24.096693 ]\n",
      " [22.293005 ]\n",
      " [18.633902 ]\n",
      " [ 7.2669735]]\n",
      "500 cost : 5.194362 \n",
      "Prediction: [[155.39178]\n",
      " [182.79918]\n",
      " [182.4304 ]\n",
      " [194.83575]\n",
      " [141.69955]\n",
      " [ 98.26765]]\n",
      "1000 cost : 4.1113534 \n",
      "Prediction: [[154.95578]\n",
      " [183.00641]\n",
      " [182.2495 ]\n",
      " [194.73842]\n",
      " [141.95724]\n",
      " [ 98.69708]]\n",
      "1500 cost : 3.327547 \n",
      "Prediction: [[154.58617]\n",
      " [183.18124]\n",
      " [182.09547]\n",
      " [194.65872]\n",
      " [142.1719 ]\n",
      " [ 99.06362]]\n",
      "2000 cost : 2.7586195 \n",
      "Prediction: [[154.27278 ]\n",
      " [183.32866 ]\n",
      " [181.96426 ]\n",
      " [194.5939  ]\n",
      " [142.35019 ]\n",
      " [ 99.376816]]\n"
     ]
    }
   ],
   "source": [
    "# list 형태\n",
    "\n",
    "import tensorflow as tf\n",
    "import matplotlib.pyplot as plt\n",
    "tf.set_random_seed(777)\n",
    "\n",
    "xy = np.loadtxt('data-01-test-score.csv', delimiter = ',', dtype = np.float32)\n",
    "x_data = xy[:, 0 : -1] # 모든행, 0에서 마지막 끝행은 빼고 가져옴\n",
    "y_data = xy[:, [-1]] # 모든행, 마지막 끝행만 가져옴\n",
    "\n",
    "# placeholder\n",
    "X = tf.placeholder(tf.float32, shape = [None, 3])\n",
    "Y = tf.placeholder(tf.float32, shape = [None, 1])\n",
    "\n",
    "W = tf.Variable(tf.random_normal([3, 1]), name = 'weight')\n",
    "b = tf.Variable(tf.random_normal([1]), name = 'bias')\n",
    "\n",
    "# hypothesis\n",
    "hypothesis = tf.matmul(X, W) + b\n",
    "\n",
    "# cost/loss function\n",
    "cost = tf.reduce_mean(tf.square(hypothesis - Y))\n",
    "\n",
    "# optimizer\n",
    "optimizer = tf.train.GradientDescentOptimizer(learning_rate = 1e-5)\n",
    "train = optimizer.minimize(cost)\n",
    "\n",
    "# launch\n",
    "sess = tf.Session()\n",
    "\n",
    "# initial\n",
    "sess.run(tf.global_variables_initializer())\n",
    "\n",
    "for step in range(2000+1) :\n",
    "    cost_val, hy_val, _ = sess.run([cost, hypothesis, train],\n",
    "                                    feed_dict = {X : x_data, Y : y_data})\n",
    "    if step % 500 == 0 :\n",
    "        print(step, 'cost :', cost_val, '\\nPrediction:', hy_val)"
   ]
  },
  {
   "cell_type": "code",
   "execution_count": null,
   "metadata": {},
   "outputs": [
    {
     "name": "stdout",
     "output_type": "stream",
     "text": [
      "Your final score will be : [[171.15341]]\n"
     ]
    }
   ],
   "source": [
    "# my score\n",
    "print('Your final score will be :', sess.run(hypothesis, \n",
    "       feed_dict = {X : [[100, 70, 101]]}))"
   ]
  },
  {
   "cell_type": "markdown",
   "metadata": {},
   "source": [
    "#### tf.train.batch"
   ]
  },
  {
   "cell_type": "code",
   "execution_count": null,
   "metadata": {},
   "outputs": [],
   "source": [
    "# collection batches (batch는 펌프와 같은 역할)\n",
    "# train_x_batch, train_y_batch = \\\n",
    "# tf.train.batch([xy[0:-1], xy[-1:]], batch_size = 10)\n",
    "\n",
    "# sess = tf.Session()\n",
    "\n",
    "# coord = tf.train.Coordinator()\n",
    "# threads = tf.train.start_queue_runners(sess = sess, coord = coord)\n",
    "\n",
    "# for step in range(2000+1) :\n",
    "#     x_batch, y_batch = sess.run([train_x_batch, train_y_batch])\n",
    "#     ...\n",
    "# coord.request_stop()\n",
    "# coord.join(threads)"
   ]
  },
  {
   "cell_type": "code",
   "execution_count": null,
   "metadata": {},
   "outputs": [],
   "source": [
    "import tensorflow as tf\n",
    "\n",
    "# read file\n",
    "filename_queue = tf.train.string_input_producer(\n",
    "['data-01-test-score.csv'], shuffle = False, name = 'filename_queue')\n",
    "\n",
    "# read 정의\n",
    "reader = tf.TextLineReader()\n",
    "key, value = reader.read(filename_queue)\n",
    "\n",
    "# decode result\n",
    "record_defaults = [[0.], [0.], [0.], [0.]]\n",
    "xy = tf.decode_csv(value, record_defaults = record_defaults)\n",
    "\n",
    "# collection batches\n",
    "train_x_batch, train_y_batch = \\\n",
    "tf.train.batch([xy[0:-1], xy[-1:]], batch_size = 10)\n",
    "\n",
    "# placeholder\n",
    "X = tf.placeholder(tf.float32, shape = [None, 3])\n",
    "Y = tf.placeholder(tf.float32, shape = [None, 1])\n",
    "\n",
    "W = tf.Variable(tf.random_normal([3, 1]), name = 'weight')\n",
    "b = tf.Variable(tf.random_normal([1]), name = 'bias')\n",
    "\n",
    "# hypothesis\n",
    "hypothesis = tf.matmul(X, W) + b\n",
    "\n",
    "# cost/loss function\n",
    "cost = tf.reduce_mean(tf.square(hypothesis - Y))\n",
    "\n",
    "# optimizer\n",
    "optimizer = tf.train.GradientDescentOptimizer(learning_rate = 1e-5)\n",
    "train = optimizer.minimize(cost)\n",
    "\n",
    "# launch\n",
    "sess = tf.Session()\n",
    "\n",
    "# initial\n",
    "sess.run(tf.global_variables_initializer())\n",
    "\n",
    "for step in range(2000+1) :\n",
    "    x_batch, y_batch = sess.run([train_x_batch, train_y_batch])\n",
    "    cost_val, hy_val, _ = sess.run([cost, hypothesis, train],\n",
    "                          feed_dict = {X : x_batch, Y : y_batch})\n",
    "    \n",
    "    if step % 500 == 0 :\n",
    "        print(step, 'cost :', cost_val, '\\nPrediction:', hy_val)\n",
    "        \n",
    "coord.request_stop()\n",
    "coord.join(threads)"
   ]
  },
  {
   "cell_type": "code",
   "execution_count": null,
   "metadata": {},
   "outputs": [],
   "source": []
  }
 ],
 "metadata": {
  "kernelspec": {
   "display_name": "Python 3",
   "language": "python",
   "name": "python3"
  },
  "language_info": {
   "codemirror_mode": {
    "name": "ipython",
    "version": 3
   },
   "file_extension": ".py",
   "mimetype": "text/x-python",
   "name": "python",
   "nbconvert_exporter": "python",
   "pygments_lexer": "ipython3",
   "version": "3.6.4"
  }
 },
 "nbformat": 4,
 "nbformat_minor": 2
}
