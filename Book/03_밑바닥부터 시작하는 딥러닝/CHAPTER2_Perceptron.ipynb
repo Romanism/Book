{
 "cells": [
  {
   "cell_type": "markdown",
   "metadata": {},
   "source": [
    "# CHAPTER2 퍼셉트론\n",
    "\n",
    "- 퍼셉트론이란?\n",
    "- 단순한 논리 회로\n",
    "- 퍼셉트론 구현하기\n",
    "- 퍼셉트론 한계\n",
    "- 다층 퍼셉트론\n",
    "- 정리"
   ]
  },
  {
   "cell_type": "markdown",
   "metadata": {},
   "source": [
    "---"
   ]
  },
  {
   "cell_type": "markdown",
   "metadata": {},
   "source": [
    "### 2.1 퍼셉트론 (Perceptron) 이란?"
   ]
  },
  {
   "cell_type": "markdown",
   "metadata": {},
   "source": [
    "- 퍼셉트론은 다수의 신호를 입력받아 하나의 신호를 출력합니다.\n",
    "\n",
    "\n",
    "- 신호는 흐른다(1) / 흐르지 않는다(0)로 존재합니다."
   ]
  },
  {
   "cell_type": "markdown",
   "metadata": {},
   "source": [
    "<img src = 'img/perceptron1.png'>"
   ]
  },
  {
   "cell_type": "markdown",
   "metadata": {},
   "source": [
    "- $X_1$, $X_2$는 입력신호, $W_1$, $W_2$는 가중치, $y$는 출력신호 입니다.\n",
    "\n",
    "\n",
    "- 그림의 원은 뉴런, 혹은 노드라고 부릅니다.\n",
    "\n",
    "\n",
    "- 입력신호가 뉴런에 보내질 때는 각각의 고유한 가중치가 곱해집니다. ($y = X_1W_1 + X_2W_2$)\n",
    "\n",
    "\n",
    "- 뉴런에서 보내온 신호의 총합이 정해진 한계(임계값, $\\theta$)를 넘어설 때만 1을 출력합니다.\n",
    "\n",
    "\n",
    "- 가중치가 클수록 해당 신호가 값이 커지기 때문에 그만큼 더 중요하다는 것을 의미합니다."
   ]
  },
  {
   "cell_type": "markdown",
   "metadata": {},
   "source": [
    "---"
   ]
  },
  {
   "cell_type": "markdown",
   "metadata": {},
   "source": [
    "### 2.2 단순한 논리 회로"
   ]
  },
  {
   "cell_type": "markdown",
   "metadata": {},
   "source": [
    "#### 2.2.1 AND 게이트"
   ]
  },
  {
   "cell_type": "markdown",
   "metadata": {},
   "source": [
    "- 두 입력이 모두 1일 때만 1을 출력하고, 그 외에는 0을 출력합니다."
   ]
  },
  {
   "cell_type": "markdown",
   "metadata": {},
   "source": [
    "|$x_1$|$x_2$|$y$|\n",
    "|--|--|--|\n",
    "|0|0|0|\n",
    "|0|1|0|\n",
    "|1|0|0|\n",
    "|1|1|1|"
   ]
  },
  {
   "cell_type": "markdown",
   "metadata": {},
   "source": [
    "#### 2.2.2 NAND 게이트"
   ]
  },
  {
   "cell_type": "markdown",
   "metadata": {},
   "source": [
    "- Not AND라는 의미이고, 두 입력이 모두 1일때만 0을 출력, 그 외에는 1을 출력합니다"
   ]
  },
  {
   "cell_type": "markdown",
   "metadata": {},
   "source": [
    "|$x_1$|$x_2$|$y$|\n",
    "|--|--|--|\n",
    "|0|0|1|\n",
    "|0|1|1|\n",
    "|1|0|1|\n",
    "|1|1|0|"
   ]
  },
  {
   "cell_type": "markdown",
   "metadata": {},
   "source": [
    "#### 2.2.3 OR 게이트"
   ]
  },
  {
   "cell_type": "markdown",
   "metadata": {},
   "source": [
    "- 입력 신호중 하나 이상이 1이면 1을 출력합니다."
   ]
  },
  {
   "cell_type": "markdown",
   "metadata": {},
   "source": [
    "|$x_1$|$x_2$|$y$|\n",
    "|--|--|--|\n",
    "|0|0|0|\n",
    "|0|1|1|\n",
    "|1|0|1|\n",
    "|1|1|1|"
   ]
  },
  {
   "cell_type": "markdown",
   "metadata": {},
   "source": [
    "### 2.3 퍼셉트론 구현하기"
   ]
  },
  {
   "cell_type": "markdown",
   "metadata": {},
   "source": [
    "- 우변을 0으로 만들기 위해 $\\theta$를 좌변으로 옮기고 이를 $b$(bias)라고 하겠습니다. ($\\theta$ = $-b$)\n",
    "\n",
    "\n",
    "- $b$에 값에 따라 뉴런의 활성화 기준이 세워지는 것이기 때문에 $b$는 뉴런이 얼마나 쉽게 활성화될지를 결정합니다."
   ]
  },
  {
   "cell_type": "markdown",
   "metadata": {},
   "source": [
    "$$y=\n",
    "\\begin{cases}\n",
    "0& (b+w_1x_1+w_2x_2 \\le 0) \\\\\n",
    "1& (b+w_1x_1+w_2x_2 \\gt 0)\n",
    "\\end{cases}$$"
   ]
  },
  {
   "cell_type": "markdown",
   "metadata": {},
   "source": [
    "### 2.4 퍼셉트론 한계"
   ]
  },
  {
   "cell_type": "markdown",
   "metadata": {},
   "source": [
    "#### 2.4.1 XOR 게이트\n",
    "\n",
    "- $x_1$, $x_2$ 중 한쪽이 1일때만 1을 출력합니다. (배타적 논리합)\n",
    "\n",
    "\n",
    "- 단순한 퍼셉트론을 가지고선 이 문제를 해결할 수 없습니다."
   ]
  },
  {
   "cell_type": "markdown",
   "metadata": {},
   "source": [
    "|$x_1$|$x_2$|$y$|\n",
    "|--|--|--|\n",
    "|0|0|0|\n",
    "|0|1|1|\n",
    "|1|0|1|\n",
    "|1|1|0|"
   ]
  },
  {
   "cell_type": "markdown",
   "metadata": {},
   "source": [
    "#### 2.4.2 선형과 비선형"
   ]
  },
  {
   "cell_type": "markdown",
   "metadata": {},
   "source": [
    "<img src = 'img/perceptron2.png' width = 500>"
   ]
  },
  {
   "cell_type": "markdown",
   "metadata": {},
   "source": [
    "- XOR 문제를 해결하는 방법은 단순히 직선이 아닌 곡선으로 표현하는 것입니다.\n",
    "\n",
    "\n",
    "- 곡선으로 만들기 위해선 퍼셉트론을 여러개 사용해야 합니다."
   ]
  },
  {
   "cell_type": "markdown",
   "metadata": {},
   "source": [
    "---"
   ]
  },
  {
   "cell_type": "markdown",
   "metadata": {},
   "source": [
    "### 2.5 다층 퍼셉트론"
   ]
  },
  {
   "cell_type": "markdown",
   "metadata": {},
   "source": [
    "#### 2.5.1 기존 게이트 조합하기"
   ]
  },
  {
   "cell_type": "markdown",
   "metadata": {},
   "source": [
    "<img src = 'img/perceptron3.jpg'>"
   ]
  },
  {
   "cell_type": "markdown",
   "metadata": {},
   "source": [
    "- 왼쪽 위 (NAND), 왼쪽 아래 (OR)를 합하고 (AND)과정을 겪으면 곡선형태로 나타낼 수 있습니다."
   ]
  },
  {
   "cell_type": "markdown",
   "metadata": {},
   "source": [
    "|$x_1$|$x_2$|NAND|OR|AND|\n",
    "|--|--|--|--|--|\n",
    "|0|0|1|0|0|\n",
    "|0|1|1|1|1|\n",
    "|1|0|1|1|1|\n",
    "|1|1|0|1|0|"
   ]
  },
  {
   "cell_type": "markdown",
   "metadata": {},
   "source": [
    "### 2.6 정리"
   ]
  },
  {
   "cell_type": "markdown",
   "metadata": {},
   "source": [
    "- 퍼셉트론은 입출력을 갖춘 알고리즘입니다. 입력을 주면 정해진 규칙에 따른 값을 출력합니다.\n",
    "\n",
    "\n",
    "- 퍼셉트론에서는 '가중치'와 '편향'을 매개변수로 설정합니다.\n",
    "\n",
    "\n",
    "- 퍼셉트론으로 AND, OR 게이트 등의 논리 회로를 표현할 수 있습니다.\n",
    "\n",
    "\n",
    "- XOR 게이트 단층 퍼셉트론으로는 표현할 수 없습니다.\n",
    "\n",
    "\n",
    "- 2층 퍼셉트론을 이용하면 XOR 게이트를 표현할 수 있습니다. \n",
    "\n",
    "\n",
    "- 단층 퍼셉트론을 직선형 영역만 표현할 수 있고, 다층 퍼셉트론은 비선형 영역도 표현할 수 있습니다.\n",
    "\n",
    "\n",
    "- 다층 퍼셉트론은 (이론상) 컴퓨터를 표현할 수 있습니다."
   ]
  }
 ],
 "metadata": {
  "kernelspec": {
   "display_name": "Python 3",
   "language": "python",
   "name": "python3"
  },
  "language_info": {
   "codemirror_mode": {
    "name": "ipython",
    "version": 3
   },
   "file_extension": ".py",
   "mimetype": "text/x-python",
   "name": "python",
   "nbconvert_exporter": "python",
   "pygments_lexer": "ipython3",
   "version": "3.6.5"
  }
 },
 "nbformat": 4,
 "nbformat_minor": 2
}
