{
 "cells": [
  {
   "cell_type": "markdown",
   "metadata": {},
   "source": [
    "### 1. 목차"
   ]
  },
  {
   "cell_type": "markdown",
   "metadata": {},
   "source": [
    "**1강** 시작은 울림이다\n",
    "\n",
    "**2강** 김훈의 힘, 들여다보기\n",
    "\n",
    "**3강** 알랭 드 보통의 사랑에 대한 통찰\n",
    "\n",
    "**4강** 고은의 낭만에 취하다\n",
    "\n",
    "**5강** 햇살의 철학, 지중해의 문학\n",
    "\n",
    "**6강** 결코 가볍지 않은 사랑, 참을 수 없는 존재의 가벼움\n",
    "\n",
    "**7강** 불안과 외로움에서 당신을 지켜주리니, 안나 카레니나\n",
    "\n",
    "**8강** 삶의 속도를 늦추고 바라보다"
   ]
  },
  {
   "cell_type": "markdown",
   "metadata": {},
   "source": [
    "---"
   ]
  },
  {
   "cell_type": "markdown",
   "metadata": {},
   "source": [
    "### 2. 독서 일지"
   ]
  },
  {
   "cell_type": "markdown",
   "metadata": {},
   "source": [
    "1) 02/26 Mon (~ p.97)"
   ]
  },
  {
   "cell_type": "markdown",
   "metadata": {},
   "source": [
    "---"
   ]
  },
  {
   "cell_type": "markdown",
   "metadata": {},
   "source": [
    "### 3. 내용 정리 "
   ]
  },
  {
   "cell_type": "markdown",
   "metadata": {},
   "source": [
    "#### 1) 책 내용"
   ]
  },
  {
   "cell_type": "markdown",
   "metadata": {},
   "source": [
    "**1강** 시작은 울림이다"
   ]
  },
  {
   "cell_type": "markdown",
   "metadata": {},
   "source": [
    "```\n",
    "성이 난 채 길을 가다가, 작은 풀잎들이 추위 속에서 기꺼이\n",
    "바람에 맞고 흔들리는 것을 보았습니다. 그만두고 마음 풀었습니다. - <길에서> 전문\n",
    "```\n",
    "\n",
    "- 이철수의 판화집은 레이아웃이 안정감이 있고 정돈되어 있음\n",
    "- 광고를 공부하는 학생이면 동양화의 세밀한 구성을 살펴보는게 좋다 (레이아웃)\n",
    "- 사과가 떨어져 있는걸 본 최초의 사람이 뉴턴이 아니잖아요. 사과는 늘 떨어져 있지만 아무도 들여다보지 않은 겁니다. 상황에 대한 다른 시선, 절박함이 사과를 보고 이론을 정리하게 했죠. 답은 일상 속에 있습니다. 다한테 모든 것들이 말을 걸고 있어요. 하지만 대부분 들을 마음이 없죠. 그런데 들을 마음이 생겼다면, 그 사람은 창의적인 사람입니다.\n",
    "\n",
    "```\n",
    "하루 종일 봄을 찾아다녔으나 보지 못했네\n",
    "짚신이 닳도록 먼 산 구름 덮인 곳까지 헤맸네\n",
    "지쳐 돌아오니 창 앞 매화향기 미소가 가득\n",
    "봄은 이미 그 가지에 매달려 있었네 - 작자미상\n",
    "```\n",
    "\n",
    "- 파리가 아름다운 이유는 파리가 아름다워서가 아니라 우리가 그곳에 있을 시간이 삼 일밖에 없기 때문입니다."
   ]
  },
  {
   "cell_type": "markdown",
   "metadata": {},
   "source": [
    "**2강** 김훈의 힘, 들여다보기"
   ]
  },
  {
   "cell_type": "markdown",
   "metadata": {},
   "source": [
    "```\n",
    "대나무의 삶은 두꺼워지는 삶이 아니라 단단해지는 삶이다. 더 더 이상\n",
    "자라지 않고 두꺼워지지도 않고, 다만 단단해진다. 대나무는 그 인고의\n",
    "세월을 기록하지 않고, 아무런 흔적을 남기지 않는다. 대나무는\n",
    "나이테가 없다. 나이테가 있어야 할 자리가 비어있다.\n",
    "```\n",
    "\n",
    "```\n",
    "인간은 보편적 죽은 속에서, 그 보편성과는 사소한 관련도 없이\n",
    "혼자서 죽는 것이다. 모든 죽음은 끝끝내 개별적이다. 다들 죽지만\n",
    "다들 혼자서 저 자신의 죽음을 죽어야 하는 것이다.\n",
    "```"
   ]
  },
  {
   "cell_type": "markdown",
   "metadata": {},
   "source": [
    "---"
   ]
  },
  {
   "cell_type": "markdown",
   "metadata": {},
   "source": [
    "#### 2) 명언"
   ]
  },
  {
   "cell_type": "markdown",
   "metadata": {},
   "source": [
    "- 지금 나의 불행은 언젠가 내가 잘못 보낸 시간의 결과 - 나폴레옹\n",
    "- 문화와 예술미는 훈련한 만큼 보인다 - 유홍준\n",
    "- 시이불견 청이불문 (시청은 흘려보고 듣는 것이고 견문은 깊이 보고 듣는 것)\n",
    "- 그에게 두려웠던 것은 낯선 것이 아니라 익숙한 것이었다 - 니코스 카잔차키스"
   ]
  },
  {
   "cell_type": "markdown",
   "metadata": {},
   "source": [
    "---"
   ]
  },
  {
   "cell_type": "markdown",
   "metadata": {},
   "source": [
    "#### 3) 소개하는 책들"
   ]
  },
  {
   "cell_type": "markdown",
   "metadata": {},
   "source": [
    "**1강**\n",
    "\n",
    "- 산벚나무, 꽃피었는데 - 이철수 신작 판화 100선전 - 이철수\n",
    "- 마른풀의 노래 - 이철수\n",
    "- 이렇게 좋은날 - 이철수\n",
    "- 최인훈 전집1 - 최인훈\n",
    "- 나도 쓸모 있을걸 - 이오덕"
   ]
  },
  {
   "cell_type": "markdown",
   "metadata": {},
   "source": [
    "**2강**\n",
    "\n",
    "- 자전거 여행 - 김훈\n",
    "- 너는 어느 쪽이냐고 묻는 말들에 대하여 - 김훈\n",
    "- 자전거 여행2 - 김훈\n",
    "- 개-내 가난한 발바닥의 기록 - 김훈\n",
    "- 화장 - 김훈\n",
    "- 바다의 기별 - 김훈"
   ]
  }
 ],
 "metadata": {
  "kernelspec": {
   "display_name": "Python 3",
   "language": "python",
   "name": "python3"
  },
  "language_info": {
   "codemirror_mode": {
    "name": "ipython",
    "version": 3
   },
   "file_extension": ".py",
   "mimetype": "text/x-python",
   "name": "python",
   "nbconvert_exporter": "python",
   "pygments_lexer": "ipython3",
   "version": "3.6.4"
  }
 },
 "nbformat": 4,
 "nbformat_minor": 2
}
