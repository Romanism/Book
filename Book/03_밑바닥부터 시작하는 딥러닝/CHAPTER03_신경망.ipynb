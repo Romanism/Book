{
 "cells": [
  {
   "cell_type": "markdown",
   "metadata": {},
   "source": [
    "# CHAPTER3 신경망\n",
    "\n",
    "- 퍼셉트론에서 신경망으로\n",
    "- 활성화 함수\n",
    "- 신경망 구현하기\n",
    "- 출력층 설계하기\n",
    "- 정리"
   ]
  },
  {
   "cell_type": "markdown",
   "metadata": {},
   "source": [
    "### 3.1 퍼셉트론에서 신경망으로"
   ]
  },
  {
   "cell_type": "markdown",
   "metadata": {},
   "source": [
    "- 퍼셉트론은 가중치를 설정하는 작업을 사람이 수동해야 하는 한계점이 있습니다.\n",
    "\n",
    "\n",
    "- 신경망은 이러한 퍼셉트론의 한계점을 해결해줍니다."
   ]
  },
  {
   "cell_type": "markdown",
   "metadata": {},
   "source": [
    "#### 3.1.1 신경망의 예"
   ]
  },
  {
   "cell_type": "markdown",
   "metadata": {},
   "source": [
    "<img src = 'img/005.png' width = 200>"
   ]
  },
  {
   "cell_type": "markdown",
   "metadata": {},
   "source": [
    "- 신경망은 크게 입력층, 은닉층, 출력층으로 나뉘어 있습니다.\n",
    "\n",
    "\n",
    "- 은닉층의 뉴런은 사람 눈에는 보이지 않습니다."
   ]
  },
  {
   "cell_type": "markdown",
   "metadata": {},
   "source": [
    "#### 3.1.2 퍼셉트론 활용"
   ]
  },
  {
   "cell_type": "markdown",
   "metadata": {},
   "source": [
    "<img src = 'img/006.png' width = 160>"
   ]
  },
  {
   "cell_type": "markdown",
   "metadata": {},
   "source": [
    "---"
   ]
  },
  {
   "cell_type": "markdown",
   "metadata": {},
   "source": [
    "- $b$(bias)를 활용한 수식"
   ]
  },
  {
   "cell_type": "markdown",
   "metadata": {},
   "source": [
    "$$y=\n",
    "\\begin{cases}\n",
    "0& (b+w_1x_1+w_2x_2 \\le 0) \\\\\n",
    "1& (b+w_1x_1+w_2x_2 \\gt 0)\n",
    "\\end{cases}$$"
   ]
  },
  {
   "cell_type": "markdown",
   "metadata": {},
   "source": [
    "- 퍼셉트론의 $\\theta$를 b로 변환해 하나의 뉴런으로 생성합니다.\n",
    "\n",
    "\n",
    "- 생성된 뉴런을 식에 적용합니다."
   ]
  },
  {
   "cell_type": "markdown",
   "metadata": {},
   "source": [
    "### 3.2 활성화 함수"
   ]
  },
  {
   "cell_type": "markdown",
   "metadata": {},
   "source": [
    "$$y = h(b+w_1x_1+w_2x_2)$$\n",
    "\n",
    "$$h(x)=\n",
    "\\begin{cases}\n",
    "0& (x \\le 0) \\\\\n",
    "1& (x \\gt 0)\n",
    "\\end{cases}$$"
   ]
  },
  {
   "cell_type": "markdown",
   "metadata": {},
   "source": [
    "<img src = 'img/007.png' width = 170>"
   ]
  },
  {
   "cell_type": "markdown",
   "metadata": {},
   "source": [
    "- $h(x)$와 같이 입력신호의 총합을 출력신호로 변환해주는 함수를 의미합니다.\n",
    "\n",
    "\n",
    "- $h(x)$의 경우 입력이 0을 넘으면 1을 돌려주고 그렇지 않으면 0을 돌려줍니다.\n",
    "\n",
    "\n",
    "- 활성화 함수는 비선형 함수를 사용해야 합니다.\n",
    "\n",
    "\n",
    "- 비선형 함수란 말그대로 선형 함수가 아닌 함수를 말합니다. (Not 직선)\n",
    "\n",
    "\n",
    "- 선형함수는 층을 깊게해도 선형에만 머물러있기 때문입니다. ($h(x) = cx$, $h(h(h(x))) = c^3x$) "
   ]
  },
  {
   "cell_type": "markdown",
   "metadata": {},
   "source": [
    "#### 3.2.1 시그모이드 함수 (Sigmoid Function)"
   ]
  },
  {
   "cell_type": "code",
   "execution_count": 1,
   "metadata": {},
   "outputs": [
    {
     "data": {
      "text/plain": [
       "array([0.26894142, 0.73105858, 0.88079708])"
      ]
     },
     "execution_count": 1,
     "metadata": {},
     "output_type": "execute_result"
    }
   ],
   "source": [
    "import numpy as np\n",
    "import matplotlib.pyplot as plt\n",
    "\n",
    "# make sigmoid function\n",
    "def sigmoid(x):\n",
    "    return 1 / (1 + np.exp(-x))\n",
    "\n",
    "# test\n",
    "x = np.array([-1.0, 1.0, 2.0])\n",
    "sigmoid(x)"
   ]
  },
  {
   "cell_type": "code",
   "execution_count": 2,
   "metadata": {},
   "outputs": [
    {
     "data": {
      "image/png": "[encoded data removed]",
      "text/plain": [
       "<Figure size 432x288 with 1 Axes>"
      ]
     },
     "metadata": {},
     "output_type": "display_data"
    }
   ],
   "source": [
    "# make graph\n",
    "x = np.arange(-5.0, 5.0, 0.1)\n",
    "y = sigmoid(x)\n",
    "\n",
    "plt.plot(x, y)\n",
    "plt.title('sigmoid graph')\n",
    "plt.show()"
   ]
  },
  {
   "cell_type": "markdown",
   "metadata": {},
   "source": [
    "$$h(x) = \\dfrac{1}{1+exp(-x)}$$"
   ]
  },
  {
   "cell_type": "markdown",
   "metadata": {},
   "source": [
    "- $exp$는 자연상수로 2.7182..의 값을 갖는 실수 입니다.\n",
    "\n",
    "\n",
    "- $y$값이 0~1사이의 값을 가지며 S자 모양을 하고 있어 이름이 붙여졌습니다."
   ]
  },
  {
   "cell_type": "markdown",
   "metadata": {},
   "source": [
    "#### 3.2.2 계단 함수 (Step Function)"
   ]
  },
  {
   "cell_type": "code",
   "execution_count": 3,
   "metadata": {},
   "outputs": [],
   "source": [
    "def step_function(x): \n",
    "    \n",
    "    # y is bool\n",
    "    y = x > 0 \n",
    "    \n",
    "    # bool to int\n",
    "    return y.astype(np.int) "
   ]
  },
  {
   "cell_type": "code",
   "execution_count": 4,
   "metadata": {},
   "outputs": [
    {
     "data": {
      "image/png": "[encoded data removed]",
      "text/plain": [
       "<Figure size 432x288 with 1 Axes>"
      ]
     },
     "metadata": {},
     "output_type": "display_data"
    }
   ],
   "source": [
    "# make graph\n",
    "import matplotlib.pyplot as plt\n",
    "\n",
    "x = np.arange(-5.0, 5.0, 0.1)\n",
    "y = step_function(x)\n",
    "\n",
    "plt.plot(x, y)\n",
    "plt.title('step graph')\n",
    "plt.ylim(-0.1, 1.1)\n",
    "plt.show() "
   ]
  },
  {
   "cell_type": "markdown",
   "metadata": {},
   "source": [
    "- 임계값을 경계로 출력이 바뀌는 함수를 계단함수라 합니다.\n",
    "\n",
    "\n",
    "- 퍼셉트론에서는 활성화 함수로 계딴함수를 이용한다고 할 수 있습니다."
   ]
  },
  {
   "cell_type": "markdown",
   "metadata": {},
   "source": [
    "#### ※ 시그모이드 함수 vs 계단 함수"
   ]
  },
  {
   "cell_type": "markdown",
   "metadata": {},
   "source": [
    "#### 1) 공통점\n",
    "\n",
    "\n",
    "- 입력이 작을 때 출력은 0에 가깝고 입력이 커지면 출력이 1에 가까워집니다.\n",
    "\n",
    "\n",
    "- 입력값은 0에서 1사이입니다.\n",
    "\n",
    "\n",
    "- 비선형 함수입니다."
   ]
  },
  {
   "cell_type": "markdown",
   "metadata": {},
   "source": [
    "#### 2) 차이점\n",
    "\n",
    "\n",
    "- 시그모이드가 더 매끄럽습니다. (신경망에서 매우 중요한 역할)\n",
    "\n",
    "\n",
    "- 시그모이드에선 연속적인 실수가 흐릅니다. (계단은 0, 1)"
   ]
  },
  {
   "cell_type": "markdown",
   "metadata": {},
   "source": [
    "#### 3.2.3 ReLU 함수 (Rectified Linear Unit Function)"
   ]
  },
  {
   "cell_type": "code",
   "execution_count": 5,
   "metadata": {},
   "outputs": [],
   "source": [
    "def ReLU(x):\n",
    "    return np.maximum(0, x)"
   ]
  },
  {
   "cell_type": "code",
   "execution_count": 6,
   "metadata": {},
   "outputs": [
    {
     "data": {
      "image/png": "[encoded data removed]",
      "text/plain": [
       "<Figure size 432x288 with 1 Axes>"
      ]
     },
     "metadata": {},
     "output_type": "display_data"
    }
   ],
   "source": [
    "# make graph\n",
    "x = np.arange(-5.0, 5.0, 0.1)\n",
    "y = ReLU(x)\n",
    "\n",
    "plt.plot(x, y)\n",
    "plt.title('ReLU graph')\n",
    "plt.show()"
   ]
  },
  {
   "cell_type": "markdown",
   "metadata": {},
   "source": [
    "$$h(x)=\n",
    "\\begin{cases}\n",
    "0& (x \\le 0) \\\\\n",
    "x& (x \\gt 0)\n",
    "\\end{cases}$$"
   ]
  },
  {
   "cell_type": "markdown",
   "metadata": {},
   "source": [
    "- 입력이 0을 넘으면 그 입력을 그대로 출력하고, 0이하면 0을 출력하는 함수입니다.\n",
    "\n",
    "\n",
    "- 최근 신경망 분야에서 시그모이드 함수보다 ReLU 함수를 많이 사용합니다."
   ]
  },
  {
   "cell_type": "markdown",
   "metadata": {},
   "source": [
    "### 3.3 신경망 구현하기"
   ]
  },
  {
   "cell_type": "markdown",
   "metadata": {},
   "source": [
    "#### 3.3.1 표기법 "
   ]
  },
  {
   "cell_type": "markdown",
   "metadata": {},
   "source": [
    "<img src = 'img/011.png' width = 200>"
   ]
  },
  {
   "cell_type": "markdown",
   "metadata": {},
   "source": [
    "- $W_{12}^{(1)}$ 에서 앞에 1은 다음 층의 1번째 뉴런, 2는 앞층의 2번째 뉴런, (1)은 1층의 가중치를 의미합니다."
   ]
  },
  {
   "cell_type": "markdown",
   "metadata": {},
   "source": [
    "#### 3.3.2 각 층의 신호 전달"
   ]
  },
  {
   "cell_type": "markdown",
   "metadata": {},
   "source": [
    "<img src = 'img/013.png' width = 300>"
   ]
  },
  {
   "cell_type": "markdown",
   "metadata": {},
   "source": [
    "$$a_{1}^{(1)}\\;=\\;w_{11}^{(1)}x_1\\; +\\; w_{12}^{(1)}x_2\\; + \\;b_{1}^{(1)}$$"
   ]
  },
  {
   "cell_type": "code",
   "execution_count": 7,
   "metadata": {},
   "outputs": [
    {
     "name": "stdout",
     "output_type": "stream",
     "text": [
      "[0.3 0.7 1.1]\n",
      "[0.57444252 0.66818777 0.75026011]\n"
     ]
    }
   ],
   "source": [
    "# 1단계\n",
    "x = np.array([1.0, 0.5]) # 1 x 2 벡터\n",
    "W1 = np.array([[0.1, 0.3, 0.5], [0.2, 0.4, 0.6]]) # 2 x 3 매트릭스\n",
    "B1 = np.array([0.1, 0.2, 0.3]) # 1 x 3 벡터\n",
    "\n",
    "# a1\n",
    "A1 = np.dot(x, W1) + B1\n",
    "print(A1)\n",
    "\n",
    "# z1\n",
    "Z1 = sigmoid(A1)\n",
    "print(Z1)"
   ]
  },
  {
   "cell_type": "markdown",
   "metadata": {},
   "source": [
    "<img src = 'img/014.png' width = 300>"
   ]
  },
  {
   "cell_type": "code",
   "execution_count": 8,
   "metadata": {},
   "outputs": [
    {
     "name": "stdout",
     "output_type": "stream",
     "text": [
      "[0.51615984 1.21402696]\n",
      "[0.62624937 0.7710107 ]\n"
     ]
    }
   ],
   "source": [
    "# 2단계\n",
    "W2 = np.array([ [0.1, 0.4], [0.2, 0.5], [0.3, 0.6] ])\n",
    "B2 = np.array([0.1, 0.2])\n",
    "\n",
    "# a2\n",
    "A2 = np.dot(Z1, W2) + B2\n",
    "print(A2)\n",
    "\n",
    "# z2\n",
    "Z2 = sigmoid(A2)\n",
    "print(Z2)"
   ]
  },
  {
   "cell_type": "markdown",
   "metadata": {},
   "source": [
    "### 3.4 출력층 설계"
   ]
  },
  {
   "cell_type": "markdown",
   "metadata": {},
   "source": [
    "- 출력층의 활성화 함수는 풀고자 하는 문제의 성질에 맞게 정합니다.\n",
    "\n",
    "\n",
    "|문제|함수|\n",
    "|--|--|\n",
    "|회귀문제|항등 함수|\n",
    "|2클래스|시그모이드 함수|\n",
    "|다중클래스|소프트맥스 함수|"
   ]
  },
  {
   "cell_type": "markdown",
   "metadata": {},
   "source": [
    "#### 3.4.1 소프트맥스 함수 (Softmax Function)"
   ]
  },
  {
   "cell_type": "markdown",
   "metadata": {},
   "source": [
    "$$y_k = \\dfrac{exp(a_k)}{\\sum exp(a_i)}$$"
   ]
  },
  {
   "cell_type": "code",
   "execution_count": 9,
   "metadata": {},
   "outputs": [],
   "source": [
    "# make softmax\n",
    "def softmax(a):\n",
    "    \n",
    "    exp_a = np.exp(a - np.max(a))\n",
    "    sum_exp_a = np.sum(exp_a)\n",
    "    \n",
    "    return exp_a / sum_exp_a"
   ]
  },
  {
   "cell_type": "markdown",
   "metadata": {},
   "source": [
    "- 분모는 모든 입력 신호 지수함수의 합을 의미합니다.\n",
    "\n",
    "\n",
    "- 분자는 입력신호 $a_k$의 지수함수를 의미합니다.\n",
    "\n",
    "\n",
    "- 소프트맥스 함수의 출력은 0 ~ 1 사이의 실수입니다.\n",
    "\n",
    "\n",
    "- 소프트맥스 함수의 총합은 1입니다."
   ]
  },
  {
   "cell_type": "code",
   "execution_count": 10,
   "metadata": {},
   "outputs": [
    {
     "name": "stdout",
     "output_type": "stream",
     "text": [
      "exp_a : [ 1.34985881 18.17414537 54.59815003]\n",
      "sum_exp_a : 74.1221542101633\n",
      "y : [0.01821127 0.24519181 0.73659691]\n"
     ]
    }
   ],
   "source": [
    "a = np.array([0.3, 2.9, 4.0])\n",
    "\n",
    "# make exp(a)\n",
    "exp_a = np.exp(a)\n",
    "print('exp_a :', exp_a)\n",
    "\n",
    "# sum exp(a)\n",
    "sum_exp_a = np.sum(exp_a)\n",
    "print('sum_exp_a :', sum_exp_a)\n",
    "\n",
    "# make y\n",
    "y = exp_a / sum_exp_a\n",
    "\n",
    "print('y :', y)"
   ]
  },
  {
   "cell_type": "markdown",
   "metadata": {},
   "source": [
    "#### ※ 주의점"
   ]
  },
  {
   "cell_type": "markdown",
   "metadata": {},
   "source": [
    "- 소프트맥스 함수의 문제점은 오버플로 문제가 생길 수 있다는 점입니다.\n",
    "\n",
    "\n",
    "- 예를 들어 $exp(100)$은 0이 40개가 넘는 큰 값이 되고 따라서 수식을 안정화시킬 필요성이 있습니다."
   ]
  },
  {
   "cell_type": "markdown",
   "metadata": {},
   "source": [
    "$$y_k = \\dfrac{exp(a_k)}{\\sum exp(a_i)} = \\dfrac{Cexp(a_k)}{C\\sum exp(a_i)} = \\dfrac{exp(a_k + logC)}{\\sum exp(a_i + logC)} = \\dfrac{exp(a_k + C')}{\\sum exp(a_i + C')}$$"
   ]
  },
  {
   "cell_type": "markdown",
   "metadata": {},
   "source": [
    "- 똑같은 상수를 곱하고 exp에 넣어준다. $logC = C'$로 치환합니다.\n",
    "\n",
    "\n",
    "- 일반적으로 $C'$는 입력신호 중 최대값에 (-)를 붙입니다.\n",
    "\n",
    "\n",
    "- 이 값을 빼서 전체적으로 값을 낮추는 역할을 합니다."
   ]
  },
  {
   "cell_type": "markdown",
   "metadata": {},
   "source": [
    "#### 3.4.2 출력층의 뉴런 수 정하기"
   ]
  },
  {
   "cell_type": "markdown",
   "metadata": {},
   "source": [
    "- 출력층의 뉴런 수는 문제에 맞게 적절히 정합니다.\n",
    "\n",
    "\n",
    "- 분류에선 분류하고 싶은 클래스 수로 설정하는 것이 일반적입니다."
   ]
  },
  {
   "cell_type": "markdown",
   "metadata": {},
   "source": [
    "---"
   ]
  },
  {
   "cell_type": "markdown",
   "metadata": {},
   "source": [
    "### 3.5 정리"
   ]
  },
  {
   "cell_type": "markdown",
   "metadata": {},
   "source": [
    "- 신경망에서는 활성화 함수로 시그모이드 함수와 ReLU 함수 같은 매끄럽게 변화하는 함수를 이용합니다.\n",
    "\n",
    "\n",
    "- Numpy 다차원 배열을 잘 사용하면 신경망을 효율적으로 구현할 수 있습니다.\n",
    "\n",
    "\n",
    "- Machine Learning은 크게 regression과 classification로 나눌 수 있습니다.\n",
    "\n",
    "\n",
    "- 출력층의 활성화 함수로는 regression은 주로 항등 함수를, classification에서는 소프트맥스 함수를 이용합니다.\n",
    "\n",
    "\n",
    "- 분류에서는 출력층의 뉴런 수를 분류하려는 클래스 수와 같게 설정합니다.\n",
    "\n",
    "\n",
    "- 입력 데이터를 묶은 것을 배치라 하며, 추론 처리를 이 배치 단위로 진행하면 결과를 훨씬 빠르게 얻을 수 있습니다."
   ]
  }
 ],
 "metadata": {
  "kernelspec": {
   "display_name": "Python 3",
   "language": "python",
   "name": "python3"
  },
  "language_info": {
   "codemirror_mode": {
    "name": "ipython",
    "version": 3
   },
   "file_extension": ".py",
   "mimetype": "text/x-python",
   "name": "python",
   "nbconvert_exporter": "python",
   "pygments_lexer": "ipython3",
   "version": "3.6.5"
  }
 },
 "nbformat": 4,
 "nbformat_minor": 2
}
